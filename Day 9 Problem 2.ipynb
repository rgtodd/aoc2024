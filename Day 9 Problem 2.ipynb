{
 "cells": [
  {
   "cell_type": "markdown",
   "metadata": {},
   "source": [
    "# Advent of Code - 2024 - Day 9 - Problem 2\n",
    "\n",
    "https://adventofcode.com/2024/day/9\n",
    "\n",
    "## Load Source Data\n",
    "\n",
    "Load the map data into `DATA`."
   ]
  },
  {
   "cell_type": "code",
   "execution_count": 1,
   "metadata": {},
   "outputs": [],
   "source": [
    "f = open(\"data/day9.txt\", \"r\")\n",
    "DATA = f.read()\n",
    "f.close()"
   ]
  },
  {
   "cell_type": "markdown",
   "metadata": {},
   "source": [
    "# Create DiskEntry Class"
   ]
  },
  {
   "cell_type": "code",
   "execution_count": 2,
   "metadata": {},
   "outputs": [],
   "source": [
    "class DiskEntry:\n",
    "\n",
    "    def __init__(self, file_id, position, size):\n",
    "        self.file_id = file_id\n",
    "        self.position = position\n",
    "        self.size = size\n",
    "\n",
    "    def __str__(self):\n",
    "        return f\"({self.file_id},{self.position},{self.size})\""
   ]
  },
  {
   "cell_type": "markdown",
   "metadata": {},
   "source": [
    "# Create Disk Class"
   ]
  },
  {
   "cell_type": "code",
   "execution_count": 3,
   "metadata": {},
   "outputs": [],
   "source": [
    "class Disk:\n",
    "\n",
    "    def __init__(self):\n",
    "        self._files = list()\n",
    "        self._gaps = list()\n",
    "\n",
    "    def parse_map(self, map):\n",
    "        entry_is_file = True\n",
    "        file_id = -1\n",
    "        position = 0\n",
    "        for m in DATA:\n",
    "            size = int(m)\n",
    "\n",
    "            if entry_is_file:\n",
    "                file_id += 1\n",
    "                file = DiskEntry(file_id, position, size)\n",
    "                self._files.append(file)\n",
    "            else:\n",
    "                if size > 0:\n",
    "                    gap = DiskEntry(-1, position, size)\n",
    "                    self._gaps.append(gap)\n",
    "\n",
    "            position += size\n",
    "            entry_is_file = not entry_is_file\n",
    "\n",
    "    def _find_gap(self, size, max_position):\n",
    "        for disk_entry in self._gaps:\n",
    "            if disk_entry.position > max_position:\n",
    "                return None\n",
    "            if disk_entry.size >= size:\n",
    "                return disk_entry\n",
    "        return None\n",
    "\n",
    "    def _get_gap_at(self, position):\n",
    "        for disk_entry in self._gaps:\n",
    "            if disk_entry.position == position:\n",
    "                return disk_entry\n",
    "        return None\n",
    "\n",
    "    def _consolidate_gaps(self):\n",
    "\n",
    "        # Sort the gaps by position\n",
    "        #\n",
    "        self._gaps.sort(key=lambda de: de.position)\n",
    "        gap_map = {gap.position: gap for gap in self._gaps}\n",
    "\n",
    "        idx = 0\n",
    "        while idx < len(self._gaps):\n",
    "            gap = self._gaps[idx]\n",
    "            next_position = gap.position + gap.size\n",
    "            if next_position in gap_map.keys():\n",
    "                next_gap = gap_map[next_position]\n",
    "                gap.size += next_gap.size\n",
    "                self._gaps.remove(next_gap)\n",
    "            else:\n",
    "                idx += 1\n",
    "\n",
    "    def _move_file(self, file, gap):\n",
    "\n",
    "        # Swap the file and gap positions.\n",
    "        #\n",
    "        position = gap.position\n",
    "        gap.position = file.position\n",
    "        file.position = position\n",
    "\n",
    "        # Create a new gap if file is smaller than target gap.\n",
    "        #\n",
    "        if file.size < gap.size:\n",
    "            self._gaps.append(\n",
    "                DiskEntry(-1, file.position + file.size, gap.size - file.size)\n",
    "            )\n",
    "\n",
    "        self._consolidate_gaps()\n",
    "\n",
    "    def compact_files(self):\n",
    "\n",
    "        # Sort the files by descending position\n",
    "        #\n",
    "        self._files.sort(key=lambda de: -de.position)\n",
    "\n",
    "        for file in self._files:\n",
    "            gap = self._find_gap(file.size, file.position)\n",
    "            if gap != None:\n",
    "                self._move_file(file, gap)\n",
    "\n",
    "    def compute_checksum(self):\n",
    "        checksum = 0\n",
    "        for file in self._files:\n",
    "            for idx in range(file.size):\n",
    "                checksum += file.file_id * (file.position + idx)\n",
    "        return checksum"
   ]
  },
  {
   "cell_type": "markdown",
   "metadata": {},
   "source": [
    "## Process the Data"
   ]
  },
  {
   "cell_type": "code",
   "execution_count": 4,
   "metadata": {},
   "outputs": [
    {
     "name": "stdout",
     "output_type": "stream",
     "text": [
      "checksum = 6326952672104\n"
     ]
    }
   ],
   "source": [
    "disk = Disk()\n",
    "disk.parse_map(DATA)\n",
    "disk.compact_files()\n",
    "\n",
    "checksum = disk.compute_checksum()\n",
    "\n",
    "print(f\"checksum = {checksum}\")"
   ]
  }
 ],
 "metadata": {
  "kernelspec": {
   "display_name": "Python 3",
   "language": "python",
   "name": "python3"
  },
  "language_info": {
   "codemirror_mode": {
    "name": "ipython",
    "version": 3
   },
   "file_extension": ".py",
   "mimetype": "text/x-python",
   "name": "python",
   "nbconvert_exporter": "python",
   "pygments_lexer": "ipython3",
   "version": "3.9.19"
  }
 },
 "nbformat": 4,
 "nbformat_minor": 2
}
