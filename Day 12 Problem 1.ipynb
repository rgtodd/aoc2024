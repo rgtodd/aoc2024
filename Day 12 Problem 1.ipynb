{
 "cells": [
  {
   "cell_type": "markdown",
   "metadata": {},
   "source": [
    "# Advent of Code - 2024 - Day 12 - Problem 1\n",
    "\n",
    "https://adventofcode.com/2024/day/12\n",
    "\n",
    "## Load Source Data\n",
    "\n",
    "Load the map data into `DATA`."
   ]
  },
  {
   "cell_type": "code",
   "execution_count": 1,
   "metadata": {},
   "outputs": [],
   "source": [
    "f = open(\"data/day12.txt\", \"r\")\n",
    "DATA = list(map(str.strip, f.readlines()))\n",
    "f.close()"
   ]
  },
  {
   "cell_type": "markdown",
   "metadata": {},
   "source": [
    "## Create Map Class\n",
    "\n"
   ]
  },
  {
   "cell_type": "code",
   "execution_count": 2,
   "metadata": {},
   "outputs": [],
   "source": [
    "class Map:\n",
    "\n",
    "    def __init__(self):\n",
    "        self._plants = {}  # {(row,col) : plant}\n",
    "\n",
    "    def add_plant(self, plant, row, col):\n",
    "        self._plants[(row, col)] = plant\n",
    "\n",
    "    def get_regions(self):\n",
    "        all_regions = []\n",
    "\n",
    "        # locations maintains the set of unprocessed locations. Elements are removed from this set:\n",
    "        # 1. When a new region is created\n",
    "        # 2. When a region is extended (below)\n",
    "        #\n",
    "        locations = set(self._plants.keys())\n",
    "        while locations:  # is not empty\n",
    "            location = locations.pop()\n",
    "            plant = self._plants[location]\n",
    "\n",
    "            region = set()\n",
    "            all_regions.append(region)\n",
    "\n",
    "            # Maintain a list of unprocessed locations that will be added to the current region.\n",
    "            #\n",
    "            region_locations = set()\n",
    "            region_locations.add(location)\n",
    "            while region_locations:  # is not empty\n",
    "                region_location = region_locations.pop()\n",
    "\n",
    "                region.add(region_location)\n",
    "\n",
    "                for adjoining_location in self._get_adjoining_locations(region_location):\n",
    "                    if adjoining_location in locations and self._plants[adjoining_location] == plant:\n",
    "                        locations.remove(adjoining_location)\n",
    "                        region_locations.add(adjoining_location)\n",
    "\n",
    "        return all_regions\n",
    "\n",
    "    def _get_adjoining_locations(self, location):\n",
    "        row, col = location\n",
    "        return [(row - 1, col), (row, col - 1), (row, col + 1), (row + 1, col)]"
   ]
  },
  {
   "cell_type": "markdown",
   "metadata": {},
   "source": [
    "## Define get_fence_length\n",
    "\n",
    "Determines the length of the fence surrounding the specified region."
   ]
  },
  {
   "cell_type": "code",
   "execution_count": 3,
   "metadata": {},
   "outputs": [],
   "source": [
    "def get_fence_length(region):\n",
    "    length = 0\n",
    "    for row, col in region:\n",
    "        length += 4\n",
    "        if (row - 1, col) in region:\n",
    "            length -= 1\n",
    "        if (row, col - 1) in region:\n",
    "            length -= 1\n",
    "        if (row, col + 1) in region:\n",
    "            length -= 1\n",
    "        if (row + 1, col) in region:\n",
    "            length -= 1\n",
    "    return length"
   ]
  },
  {
   "cell_type": "markdown",
   "metadata": {},
   "source": [
    "## Compute Total Price"
   ]
  },
  {
   "cell_type": "code",
   "execution_count": 4,
   "metadata": {},
   "outputs": [
    {
     "name": "stdout",
     "output_type": "stream",
     "text": [
      "total_price = 1375574\n"
     ]
    }
   ],
   "source": [
    "# Parse the input data and populate the map.\n",
    "#\n",
    "m = Map()\n",
    "for row in range(len(DATA)):\n",
    "    line = DATA[row]\n",
    "    for col in range(len(line)):\n",
    "        plant = line[col]\n",
    "        m.add_plant(plant, row, col)\n",
    "\n",
    "# Go through all regions on the map and compute the fence price.\n",
    "#\n",
    "total_price = 0\n",
    "for region in m.get_regions():\n",
    "    fence_length = get_fence_length(region)\n",
    "    area = len(region)\n",
    "    # print(f\"fence_length = {fence_length}, area = {area}\")\n",
    "    total_price += fence_length * area\n",
    "\n",
    "print(f\"total_price = {total_price}\")"
   ]
  }
 ],
 "metadata": {
  "kernelspec": {
   "display_name": "Python 3",
   "language": "python",
   "name": "python3"
  },
  "language_info": {
   "codemirror_mode": {
    "name": "ipython",
    "version": 3
   },
   "file_extension": ".py",
   "mimetype": "text/x-python",
   "name": "python",
   "nbconvert_exporter": "python",
   "pygments_lexer": "ipython3",
   "version": "3.9.19"
  }
 },
 "nbformat": 4,
 "nbformat_minor": 2
}
