{
 "cells": [
  {
   "cell_type": "markdown",
   "metadata": {},
   "source": [
    "# Advent of Code - 2024 - Day 6 - Problem 2\n",
    "\n",
    "https://adventofcode.com/2024/day/5\n",
    "\n",
    "## Load Source Data\n",
    "\n",
    "Load the map data into `DATA`."
   ]
  },
  {
   "cell_type": "code",
   "execution_count": 1,
   "metadata": {},
   "outputs": [],
   "source": [
    "f = open(\"data/day6.txt\", \"r\")\n",
    "DATA = list(map(str.strip, f.readlines()))\n",
    "f.close()"
   ]
  },
  {
   "cell_type": "markdown",
   "metadata": {},
   "source": [
    "## Create Maze Class"
   ]
  },
  {
   "cell_type": "code",
   "execution_count": 2,
   "metadata": {},
   "outputs": [],
   "source": [
    "class Maze:\n",
    "\n",
    "    def __init__(self, data):\n",
    "        self.data = list(map(list, data))\n",
    "\n",
    "    def is_valid(self, location):\n",
    "        row, col = location\n",
    "        if row < 0 or row >= len(self.data): return False\n",
    "        if col < 0 or col >= len(self.data[row]): return False\n",
    "        return True\n",
    "\n",
    "    def get_value(self, location):\n",
    "        row, col = location\n",
    "        return self.data[row][col]\n",
    "    \n",
    "    def find_value(self, value):\n",
    "        for row in range(len(self.data)):\n",
    "            for col in range(len(self.data[row])):\n",
    "                if self.data[row][col] == value: return (row,col)\n",
    "        return None\n",
    "    \n",
    "    def get_unobstructed_locations(self):\n",
    "        locations = set()\n",
    "        for row in range(len(self.data)):\n",
    "            for col in range(len(self.data[row])):\n",
    "                if self.data[row][col] == \".\": locations.add((row,col))\n",
    "        return locations"
   ]
  },
  {
   "cell_type": "markdown",
   "metadata": {},
   "source": [
    "## Create Cursor Class"
   ]
  },
  {
   "cell_type": "code",
   "execution_count": 3,
   "metadata": {},
   "outputs": [],
   "source": [
    "ORIENTATION_UP = 0\n",
    "ORIENTATION_RIGHT = 1\n",
    "ORIENTATION_DOWN = 2\n",
    "ORIENTATION_LEFT = 3\n",
    "class Cursor:\n",
    "\n",
    "    def __init__(self, location, orientation):\n",
    "        self.location = location\n",
    "        self.orientation = orientation\n",
    "\n",
    "    def __str__(self):\n",
    "        return f\"({self.location[0]},{self.location[1]},{self.orientation})\"\n",
    "\n",
    "    # STATIC\n",
    "    def get_next_location(self, location, orientation):\n",
    "\n",
    "        row, col = location\n",
    "\n",
    "        if   orientation == ORIENTATION_UP:    return (row-1, col)\n",
    "        elif orientation == ORIENTATION_RIGHT: return (row  , col+1)\n",
    "        elif orientation == ORIENTATION_DOWN:  return (row+1, col)\n",
    "        else:                                  return (row  , col-1) # LEFT\n",
    "\n",
    "    def get_next_locations(self):\n",
    "        location = self.location\n",
    "        orientation = self.orientation\n",
    "        for idx in range(4):\n",
    "            yield Cursor(self.get_next_location(location, orientation), orientation)\n",
    "            orientation = (orientation + 1) % 4"
   ]
  },
  {
   "cell_type": "markdown",
   "metadata": {},
   "source": [
    "## Create Guard Class"
   ]
  },
  {
   "cell_type": "code",
   "execution_count": 4,
   "metadata": {},
   "outputs": [],
   "source": [
    "GUARD_UP = \"^\"\n",
    "\n",
    "class MoveFailure(Exception):\n",
    "    pass\n",
    "\n",
    "class Guard:\n",
    "\n",
    "    def __init__(self, maze, cursor, obstructed_location):\n",
    "        self.maze = maze\n",
    "        self.cursor = cursor\n",
    "        self.path = list()\n",
    "        self.str_path = set()\n",
    "        self.obstructed_location = obstructed_location\n",
    "        \n",
    "        self.path.append(cursor)\n",
    "        self.str_path.add(str(cursor))\n",
    "\n",
    "    def is_obstructed(self, location):\n",
    "        if self.maze.get_value(location) == \"#\": return True\n",
    "        if self.obstructed_location != None and self.obstructed_location == location: return True\n",
    "        return False\n",
    "\n",
    "    def move(self):\n",
    "\n",
    "        for next_cursor in self.cursor.get_next_locations():\n",
    "            \n",
    "            # See if we've moved off the map.\n",
    "            #\n",
    "            if not self.maze.is_valid(next_cursor.location): \n",
    "                return True\n",
    "\n",
    "            # Move if the direction isn't blocked.\n",
    "            #\n",
    "            if not self.is_obstructed(next_cursor.location):\n",
    "\n",
    "                if str(next_cursor) in self.str_path:\n",
    "                    raise MoveFailure(\"Loop detected.\")\n",
    "\n",
    "                self.cursor = next_cursor\n",
    "                self.path.append(self.cursor)\n",
    "                self.str_path.add(str(self.cursor))\n",
    "\n",
    "                return False\n",
    "            \n",
    "        raise Exception(\"No possible moves.\")\n",
    "    \n",
    "    def can_escape(self):\n",
    "        try:\n",
    "            while (not self.move()):\n",
    "                pass\n",
    "            return True\n",
    "        except MoveFailure:\n",
    "            return False        "
   ]
  },
  {
   "cell_type": "markdown",
   "metadata": {},
   "source": [
    "## Move Guard Around Maze"
   ]
  },
  {
   "cell_type": "code",
   "execution_count": 5,
   "metadata": {},
   "outputs": [
    {
     "name": "stdout",
     "output_type": "stream",
     "text": [
      "count = 1705\n"
     ]
    }
   ],
   "source": [
    "maze = Maze(DATA)\n",
    "\n",
    "location = maze.find_value(GUARD_UP)\n",
    "cursor = Cursor(location, ORIENTATION_UP)\n",
    "\n",
    "unobstructed_locations = maze.get_unobstructed_locations()\n",
    "\n",
    "count = 0\n",
    "idx = 0\n",
    "for unobstructed_location in unobstructed_locations:\n",
    "    idx += 1\n",
    "    guard = Guard(maze, cursor, unobstructed_location)\n",
    "    if not guard.can_escape():\n",
    "        count += 1\n",
    "\n",
    "print(f\"count = {count}\")"
   ]
  }
 ],
 "metadata": {
  "kernelspec": {
   "display_name": "Python 3",
   "language": "python",
   "name": "python3"
  },
  "language_info": {
   "codemirror_mode": {
    "name": "ipython",
    "version": 3
   },
   "file_extension": ".py",
   "mimetype": "text/x-python",
   "name": "python",
   "nbconvert_exporter": "python",
   "pygments_lexer": "ipython3",
   "version": "3.9.19"
  }
 },
 "nbformat": 4,
 "nbformat_minor": 2
}
