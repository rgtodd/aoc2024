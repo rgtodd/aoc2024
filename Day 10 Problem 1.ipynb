{
 "cells": [
  {
   "cell_type": "markdown",
   "metadata": {},
   "source": [
    "# Advent of Code - 2024 - Day 10 - Problem 1\n",
    "\n",
    "https://adventofcode.com/2024/day/10\n",
    "\n",
    "## Load Source Data\n",
    "\n",
    "Load the map data into `DATA`."
   ]
  },
  {
   "cell_type": "code",
   "execution_count": 1,
   "metadata": {},
   "outputs": [],
   "source": [
    "f = open(\"data/day10.txt\", \"r\")\n",
    "DATA = list(map(str.strip, f.readlines()))\n",
    "f.close()\n",
    "\n",
    "ROWS = len(DATA)\n",
    "COLS = len(DATA[0])"
   ]
  },
  {
   "cell_type": "markdown",
   "metadata": {},
   "source": [
    "## Parse DATA\n",
    "\n",
    "Parse data into `MAP`."
   ]
  },
  {
   "cell_type": "code",
   "execution_count": 2,
   "metadata": {},
   "outputs": [],
   "source": [
    "MAP = list()\n",
    "for line in DATA:\n",
    "    MAP.append(list(map(int, list(line))))"
   ]
  },
  {
   "cell_type": "markdown",
   "metadata": {},
   "source": [
    "## Define find_trail_heads\n",
    "\n",
    "Locates the trailheads in a map. The result is a list of paths."
   ]
  },
  {
   "cell_type": "code",
   "execution_count": 3,
   "metadata": {},
   "outputs": [],
   "source": [
    "def find_trail_heads(map):\n",
    "    result = list()\n",
    "    for row in range(len(map)):\n",
    "        line = map[row]\n",
    "        for col in range(len(line)):\n",
    "            if line[col] == 0:\n",
    "                path = list()\n",
    "                path.append((row, col))\n",
    "                result.append(path)\n",
    "    return result"
   ]
  },
  {
   "cell_type": "markdown",
   "metadata": {},
   "source": [
    "## Define find_next_locations\n",
    "\n",
    "The result is a list of possible locations on the map."
   ]
  },
  {
   "cell_type": "code",
   "execution_count": 4,
   "metadata": {},
   "outputs": [],
   "source": [
    "def find_next_locations(map, location):\n",
    "\n",
    "    result = list()\n",
    "\n",
    "    row = location[0]\n",
    "    col = location[1]\n",
    "\n",
    "    next_elevation = map[row][col] + 1\n",
    "    if next_elevation <= 9:\n",
    "        if row > 0          and map[row - 1][col] == next_elevation: result.append((row - 1, col))\n",
    "        if row < (ROWS - 1) and map[row + 1][col] == next_elevation: result.append((row + 1, col))\n",
    "        if col > 0          and map[row][col - 1] == next_elevation: result.append((row, col - 1))\n",
    "        if col < (COLS - 1) and map[row][col + 1] == next_elevation: result.append((row, col + 1))\n",
    "\n",
    "    return result"
   ]
  },
  {
   "cell_type": "markdown",
   "metadata": {},
   "source": [
    "## Define get_completed_paths\n",
    "\n",
    "Finds all paths that begin with the specified path."
   ]
  },
  {
   "cell_type": "code",
   "execution_count": 5,
   "metadata": {},
   "outputs": [],
   "source": [
    "def get_completed_paths(map, path):\n",
    "    result = list()\n",
    "    last_location = path[-1]\n",
    "    last_elevation = map[last_location[0]][last_location[1]]\n",
    "    if last_elevation == 9:\n",
    "        next_path = path.copy()\n",
    "        result.append(next_path)\n",
    "    else:\n",
    "        for next_location in find_next_locations(map, last_location):\n",
    "            next_elevation = map[next_location[0]][next_location[1]]\n",
    "            if next_elevation == last_elevation + 1:\n",
    "                next_path = path.copy()\n",
    "                next_path.append(next_location)\n",
    "                result.extend(get_completed_paths(map, next_path))\n",
    "    return result"
   ]
  },
  {
   "cell_type": "markdown",
   "metadata": {},
   "source": [
    "## Find All Unique Paths"
   ]
  },
  {
   "cell_type": "code",
   "execution_count": 6,
   "metadata": {},
   "outputs": [
    {
     "name": "stdout",
     "output_type": "stream",
     "text": [
      "count = 820\n"
     ]
    }
   ],
   "source": [
    "unique_paths = set()\n",
    "for trailhead in find_trail_heads(MAP):\n",
    "    for path in get_completed_paths(MAP, trailhead):\n",
    "        unique_path = (path[0], path[-1])\n",
    "        unique_paths.add(unique_path)\n",
    "\n",
    "print(f\"count = {len(unique_paths)}\")"
   ]
  }
 ],
 "metadata": {
  "kernelspec": {
   "display_name": "Python 3",
   "language": "python",
   "name": "python3"
  },
  "language_info": {
   "codemirror_mode": {
    "name": "ipython",
    "version": 3
   },
   "file_extension": ".py",
   "mimetype": "text/x-python",
   "name": "python",
   "nbconvert_exporter": "python",
   "pygments_lexer": "ipython3",
   "version": "3.9.19"
  }
 },
 "nbformat": 4,
 "nbformat_minor": 2
}
