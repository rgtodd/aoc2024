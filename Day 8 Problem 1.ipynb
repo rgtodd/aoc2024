{
 "cells": [
  {
   "cell_type": "markdown",
   "metadata": {},
   "source": [
    "# Advent of Code - 2024 - Day 8 - Problem 1\n",
    "\n",
    "https://adventofcode.com/2024/day/8\n",
    "\n",
    "## Load Source Data\n",
    "\n",
    "Load the map data into `DATA`."
   ]
  },
  {
   "cell_type": "code",
   "execution_count": 1,
   "metadata": {},
   "outputs": [],
   "source": [
    "f = open(\"data/day8.txt\", \"r\")\n",
    "DATA = list(map(str.strip, f.readlines()))\n",
    "f.close()\n",
    "\n",
    "ROWS = len(DATA)\n",
    "COLS = len(DATA[0])"
   ]
  },
  {
   "cell_type": "markdown",
   "metadata": {},
   "source": [
    "## Create ANTENNAS Map\n",
    "\n",
    "Parse the data into a map that associates a list of coordinates with each unique antenna symbol."
   ]
  },
  {
   "cell_type": "code",
   "execution_count": 2,
   "metadata": {},
   "outputs": [],
   "source": [
    "ANTENNAS = {}\n",
    "for row in range(ROWS):\n",
    "    line = DATA[row]\n",
    "    for col in range(COLS):\n",
    "        key = line[col]\n",
    "        if key != '.':\n",
    "            if key not in ANTENNAS:\n",
    "                ANTENNAS[key] = list()\n",
    "            location = (row, col)\n",
    "            ANTENNAS[key].append(location)"
   ]
  },
  {
   "cell_type": "markdown",
   "metadata": {},
   "source": [
    "## Define GetAntinodes\n",
    "\n",
    "Determines the antinode count for list of coordinates."
   ]
  },
  {
   "cell_type": "code",
   "execution_count": 3,
   "metadata": {},
   "outputs": [],
   "source": [
    "def GetAntinodes(locations):\n",
    "\n",
    "    result = list()\n",
    "\n",
    "    for idx1 in range(len(locations)):\n",
    "        location1 = locations[idx1]\n",
    "        location1_row = location1[0]\n",
    "        location1_col = location1[1]\n",
    "\n",
    "        for idx2 in range(idx1+1, len(locations)):\n",
    "            location2 = locations[idx2]\n",
    "            location2_row = location2[0]\n",
    "            location2_col = location2[1]\n",
    "            \n",
    "            row_delta = location2_row - location1_row\n",
    "            col_delta = location2_col - location1_col\n",
    "\n",
    "            node_row = location1_row - row_delta\n",
    "            node_col = location1_col - col_delta\n",
    "            if node_row >= 0 and node_row < ROWS and node_col >= 0 and node_col < COLS:\n",
    "                result.append((node_row, node_col))\n",
    "\n",
    "            node_row = location2_row + row_delta\n",
    "            node_col = location2_col + col_delta\n",
    "            if node_row >= 0 and node_row < ROWS and node_col >= 0 and node_col < COLS:\n",
    "                result.append((node_row, node_col))\n",
    "    \n",
    "    return result"
   ]
  },
  {
   "cell_type": "markdown",
   "metadata": {},
   "source": [
    "## Find Total Antinode Count"
   ]
  },
  {
   "cell_type": "code",
   "execution_count": 4,
   "metadata": {},
   "outputs": [
    {
     "name": "stdout",
     "output_type": "stream",
     "text": [
      "count = 289\n"
     ]
    }
   ],
   "source": [
    "all_antinodes = set()\n",
    "for key in ANTENNAS.keys():\n",
    "    all_antinodes.update(GetAntinodes(ANTENNAS[key]))\n",
    "\n",
    "print(f\"count = {len(all_antinodes)}\")"
   ]
  }
 ],
 "metadata": {
  "kernelspec": {
   "display_name": "Python 3",
   "language": "python",
   "name": "python3"
  },
  "language_info": {
   "codemirror_mode": {
    "name": "ipython",
    "version": 3
   },
   "file_extension": ".py",
   "mimetype": "text/x-python",
   "name": "python",
   "nbconvert_exporter": "python",
   "pygments_lexer": "ipython3",
   "version": "3.9.19"
  }
 },
 "nbformat": 4,
 "nbformat_minor": 2
}
