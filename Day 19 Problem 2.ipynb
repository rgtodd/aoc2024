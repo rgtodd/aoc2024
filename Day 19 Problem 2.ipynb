{
 "cells": [
  {
   "cell_type": "markdown",
   "metadata": {},
   "source": [
    "# Advent of Code - 2024 - Day 19 - Problem 2\n",
    "\n",
    "https://adventofcode.com/2024/day/19\n",
    "\n",
    "## Load Source Data\n",
    "\n",
    "Load the map data into `DATA`."
   ]
  },
  {
   "cell_type": "code",
   "execution_count": 1,
   "metadata": {},
   "outputs": [],
   "source": [
    "f = open(\"data/day19.txt\", \"r\")\n",
    "DATA = list(map(str.strip, f.readlines()))\n",
    "f.close()"
   ]
  },
  {
   "cell_type": "markdown",
   "metadata": {},
   "source": [
    "## Parse DATA\n",
    "\n",
    "Parses data into `TOWELS` and `PATTERNS`."
   ]
  },
  {
   "cell_type": "code",
   "execution_count": 2,
   "metadata": {},
   "outputs": [],
   "source": [
    "TOWELS = DATA[0].split(\", \")\n",
    "TOWELS.sort(key=lambda t: len(t))\n",
    "\n",
    "\n",
    "PATTERNS = DATA[2:]"
   ]
  },
  {
   "cell_type": "markdown",
   "metadata": {},
   "source": [
    "## Simplify the towels used"
   ]
  },
  {
   "cell_type": "code",
   "execution_count": 3,
   "metadata": {},
   "outputs": [],
   "source": [
    "def can_construct(towel, with_towels):\n",
    "    for other_towel in with_towels:\n",
    "        if towel.startswith(other_towel) and other_towel != towel:\n",
    "            remaining_towel = towel[len(other_towel):]\n",
    "            if remaining_towel in with_towels or can_construct(remaining_towel , with_towels): \n",
    "                return True\n",
    "    return False\n",
    "\n",
    "def simplify_towels(towels):\n",
    "\n",
    "    simplified_towels = list()\n",
    "\n",
    "    for towel in towels:\n",
    "        if not can_construct(towel, towels):\n",
    "            simplified_towels.append(towel)\n",
    "\n",
    "    return simplified_towels\n",
    "\n",
    "t = TOWELS\n",
    "while True:\n",
    "    new_t = simplify_towels(t)\n",
    "    if len(new_t) == len(t):\n",
    "        break;\n",
    "    t = new_t\n",
    "\n",
    "SIMPLIFIED_TOWELS = t"
   ]
  },
  {
   "cell_type": "markdown",
   "metadata": {},
   "source": [
    "## Define find_towels_for_pattern"
   ]
  },
  {
   "cell_type": "code",
   "execution_count": 4,
   "metadata": {},
   "outputs": [
    {
     "name": "stdout",
     "output_type": "stream",
     "text": [
      "304\n"
     ]
    }
   ],
   "source": [
    "def find_towels_for_pattern(pattern):\n",
    "    if pattern == \"\":\n",
    "        yield None\n",
    "    else:\n",
    "        for towel in SIMPLIFIED_TOWELS:\n",
    "            if pattern.startswith(towel):\n",
    "                for additional_towels in find_towels_for_pattern(pattern[len(towel):]):\n",
    "                    yield (towel, additional_towels)\n",
    "count = 0\n",
    "for pattern in PATTERNS:\n",
    "    # print(pattern)\n",
    "    for towels in find_towels_for_pattern(pattern):\n",
    "        # print(f\"- {towels}\")\n",
    "        count += 1\n",
    "        break\n",
    "\n",
    "print(count)"
   ]
  }
 ],
 "metadata": {
  "kernelspec": {
   "display_name": "Python 3",
   "language": "python",
   "name": "python3"
  },
  "language_info": {
   "codemirror_mode": {
    "name": "ipython",
    "version": 3
   },
   "file_extension": ".py",
   "mimetype": "text/x-python",
   "name": "python",
   "nbconvert_exporter": "python",
   "pygments_lexer": "ipython3",
   "version": "3.9.21"
  }
 },
 "nbformat": 4,
 "nbformat_minor": 2
}
