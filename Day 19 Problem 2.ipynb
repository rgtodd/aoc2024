{
 "cells": [
  {
   "cell_type": "markdown",
   "metadata": {},
   "source": [
    "# Advent of Code - 2024 - Day 19 - Problem 2\n",
    "\n",
    "https://adventofcode.com/2024/day/19\n",
    "\n",
    "## Load Source Data\n",
    "\n",
    "Load the map data into `DATA`."
   ]
  },
  {
   "cell_type": "code",
   "execution_count": 1,
   "metadata": {},
   "outputs": [],
   "source": [
    "f = open(\"data/day19.txt\", \"r\")\n",
    "DATA = list(map(str.strip, f.readlines()))\n",
    "f.close()"
   ]
  },
  {
   "cell_type": "markdown",
   "metadata": {},
   "source": [
    "## Parse DATA\n",
    "\n",
    "Parses data into `TOWELS` and `PATTERNS`."
   ]
  },
  {
   "cell_type": "code",
   "execution_count": 2,
   "metadata": {},
   "outputs": [],
   "source": [
    "TOWELS = DATA[0].split(\", \")\n",
    "TOWELS.sort(key=lambda t: len(t))\n",
    "\n",
    "\n",
    "PATTERNS = DATA[2:]"
   ]
  },
  {
   "cell_type": "markdown",
   "metadata": {},
   "source": [
    "## Define get_counts\n",
    "\n",
    "Determines the number of towel combinations that are able to form a pattern."
   ]
  },
  {
   "cell_type": "code",
   "execution_count": 3,
   "metadata": {},
   "outputs": [
    {
     "name": "stdout",
     "output_type": "stream",
     "text": [
      "grand_count = 705756472327497\n"
     ]
    }
   ],
   "source": [
    "def get_counts(pattern, towels):\n",
    "    counts = [0 for idx in range(len(pattern) + 1)]\n",
    "    counts[0] = 1\n",
    "\n",
    "    for idx in range(len(pattern)):\n",
    "        if idx > 0 and counts[idx] == 0:\n",
    "            pass  # ignore index\n",
    "        else:\n",
    "            for towel in towels:\n",
    "                towel_len = len(towel)\n",
    "                if pattern[idx : idx + towel_len] == towel:\n",
    "                    counts[idx + towel_len] += counts[idx]\n",
    "    return counts\n",
    "\n",
    "\n",
    "grand_count = 0\n",
    "for pattern in PATTERNS:\n",
    "    count = get_counts(pattern, TOWELS)[-1]\n",
    "    grand_count += count\n",
    "\n",
    "print(f\"grand_count = {grand_count}\")"
   ]
  }
 ],
 "metadata": {
  "kernelspec": {
   "display_name": "Python 3",
   "language": "python",
   "name": "python3"
  },
  "language_info": {
   "codemirror_mode": {
    "name": "ipython",
    "version": 3
   },
   "file_extension": ".py",
   "mimetype": "text/x-python",
   "name": "python",
   "nbconvert_exporter": "python",
   "pygments_lexer": "ipython3",
   "version": "3.9.21"
  }
 },
 "nbformat": 4,
 "nbformat_minor": 2
}
