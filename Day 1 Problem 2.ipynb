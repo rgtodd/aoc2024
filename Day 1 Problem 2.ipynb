{
 "cells": [
  {
   "cell_type": "markdown",
   "metadata": {},
   "source": [
    "# Advent of Code - 2024 - Day 1 - Problem 2\n",
    "\n",
    "https://adventofcode.com/2024/day/1\n",
    "\n",
    "## Load Source Data\n",
    "\n",
    "Load source data into `DATA`.\n",
    "\n",
    "Parse each \"column\" of values into `list1` and `list2`."
   ]
  },
  {
   "cell_type": "code",
   "execution_count": 2,
   "metadata": {},
   "outputs": [],
   "source": [
    "f = open(\"data/day1.txt\", \"r\")\n",
    "DATA = list(map(str.strip, f.readlines()))\n",
    "f.close()\n",
    "\n",
    "# Parse list of values and separate into list1 and list2\n",
    "#\n",
    "list1 = []\n",
    "list2 = []\n",
    "for line in DATA:\n",
    "    values = line.split()\n",
    "    list1.append(int(values[0]))\n",
    "    list2.append(int(values[1]))\n",
    "\n",
    "assert len(list1) == 1000\n",
    "assert len(list2) == 1000"
   ]
  },
  {
   "cell_type": "markdown",
   "metadata": {},
   "source": [
    "## Get List2 Value Counts\n",
    "\n",
    "Use the `itertools.groupby` function to compute the count associated with each unique value in `list2`.\n",
    "These counts are saved in dictionary `list2ValueCounts`.\n",
    "\n",
    "https://docs.python.org/3/library/itertools.html#itertools.groupby\n",
    "\n",
    "`groupby` returns a interator over (key,group) tuples. \n",
    "\n",
    "`group` is an iterator over the values associated with the key value. \n",
    "The subexpression `len(list(group))` uses this iterator to compute a simple count value."
   ]
  },
  {
   "cell_type": "code",
   "execution_count": 3,
   "metadata": {},
   "outputs": [],
   "source": [
    "from itertools import accumulate, groupby\n",
    "\n",
    "# Create a dictionary that specifies the count for each unique value in list2.\n",
    "#\n",
    "list2ValueCounts = {el: len(list(group)) for el, group in groupby(sorted(list2))}\n",
    "\n",
    "# Ensure the subtotals sum up to the original value count.\n",
    "#\n",
    "*_, grandTotal = accumulate(v for k,v in list2ValueCounts.items())\n",
    "assert grandTotal == 1000"
   ]
  },
  {
   "cell_type": "markdown",
   "metadata": {},
   "source": [
    "## Compute Score\n",
    "\n",
    "Compute the score."
   ]
  },
  {
   "cell_type": "code",
   "execution_count": 4,
   "metadata": {},
   "outputs": [
    {
     "name": "stdout",
     "output_type": "stream",
     "text": [
      "score = 23177084\n"
     ]
    }
   ],
   "source": [
    "score = 0\n",
    "for value in list1:\n",
    "    try:\n",
    "        score += value * list2ValueCounts[value]\n",
    "    except KeyError:\n",
    "        # No action required\n",
    "        pass\n",
    "\n",
    "print(f\"score = {score}\")"
   ]
  }
 ],
 "metadata": {
  "kernelspec": {
   "display_name": "Python 3",
   "language": "python",
   "name": "python3"
  },
  "language_info": {
   "codemirror_mode": {
    "name": "ipython",
    "version": 3
   },
   "file_extension": ".py",
   "mimetype": "text/x-python",
   "name": "python",
   "nbconvert_exporter": "python",
   "pygments_lexer": "ipython3",
   "version": "3.9.19"
  }
 },
 "nbformat": 4,
 "nbformat_minor": 2
}
