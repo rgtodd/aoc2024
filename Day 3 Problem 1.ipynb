{
 "cells": [
  {
   "cell_type": "markdown",
   "metadata": {},
   "source": [
    "# Advent of Code - 2024 - Day 3 - Problem 1\n",
    "\n",
    "https://adventofcode.com/2024/day/3\n",
    "\n",
    "## Load Source Data\n",
    "\n",
    "Load source data into `DATA`."
   ]
  },
  {
   "cell_type": "code",
   "execution_count": 1,
   "metadata": {},
   "outputs": [],
   "source": [
    "f = open(\"data/day3.txt\", \"r\")\n",
    "DATA = f.read()\n",
    "f.close()"
   ]
  },
  {
   "cell_type": "markdown",
   "metadata": {},
   "source": [
    "## Define Multiplication Expression\n",
    "\n",
    "Search for expressions of the form `mul(###,###)` where `###` is a 1 to 3 digit value."
   ]
  },
  {
   "cell_type": "code",
   "execution_count": 2,
   "metadata": {},
   "outputs": [],
   "source": [
    "import re\n",
    "\n",
    "MULTIPLE_REGEX = \"\"\"mul\\(([0-9]{1,3})\\,([0-9]{1,3})\\)\"\"\"\n",
    "\n",
    "assert re.findall(\n",
    "    MULTIPLE_REGEX,\n",
    "    \"xmul(2,4)%&mul[3,7]!@^do_not_mul(5,5)+mul(32,64]then(mul(11,8)mul(8,5))\",\n",
    ") == [(\"2\", \"4\"), (\"5\", \"5\"), (\"11\", \"8\"), (\"8\", \"5\")]"
   ]
  },
  {
   "cell_type": "markdown",
   "metadata": {},
   "source": [
    "## Search Data and Compute Result\n",
    "\n",
    "Search the data and evaluate all multiplication operations."
   ]
  },
  {
   "cell_type": "code",
   "execution_count": 3,
   "metadata": {},
   "outputs": [
    {
     "name": "stdout",
     "output_type": "stream",
     "text": [
      "total = 174960292\n"
     ]
    }
   ],
   "source": [
    "import re\n",
    "\n",
    "total = 0\n",
    "for lhs, rhs in re.findall(MULTIPLE_REGEX, DATA):\n",
    "    total += int(lhs) * int(rhs)\n",
    "\n",
    "print(f\"total = {total}\")"
   ]
  }
 ],
 "metadata": {
  "kernelspec": {
   "display_name": "Python 3",
   "language": "python",
   "name": "python3"
  },
  "language_info": {
   "codemirror_mode": {
    "name": "ipython",
    "version": 3
   },
   "file_extension": ".py",
   "mimetype": "text/x-python",
   "name": "python",
   "nbconvert_exporter": "python",
   "pygments_lexer": "ipython3",
   "version": "3.9.19"
  }
 },
 "nbformat": 4,
 "nbformat_minor": 2
}
