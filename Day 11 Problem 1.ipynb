{
 "cells": [
  {
   "cell_type": "markdown",
   "metadata": {},
   "source": [
    "# Advent of Code - 2024 - Day 11 - Problem 1\n",
    "\n",
    "https://adventofcode.com/2024/day/11\n",
    "\n",
    "## Load Source Data\n",
    "\n",
    "Load the map data into `DATA`."
   ]
  },
  {
   "cell_type": "code",
   "execution_count": 1,
   "metadata": {},
   "outputs": [],
   "source": [
    "f = open(\"data/day11.txt\", \"r\")\n",
    "DATA = f.readline()\n",
    "f.close()"
   ]
  },
  {
   "cell_type": "markdown",
   "metadata": {},
   "source": [
    "## Parse DATA\n",
    "\n",
    "Parse data into `STONES`."
   ]
  },
  {
   "cell_type": "code",
   "execution_count": 2,
   "metadata": {},
   "outputs": [],
   "source": [
    "STONES = map(int, DATA.split())"
   ]
  },
  {
   "cell_type": "markdown",
   "metadata": {},
   "source": [
    "## Define update_stone\n",
    "\n",
    "Applies the update rule to a stone."
   ]
  },
  {
   "cell_type": "code",
   "execution_count": 3,
   "metadata": {},
   "outputs": [],
   "source": [
    "def update_stone(stone):\n",
    "    if stone == 0: return [1]\n",
    "    stone_str = str(stone)\n",
    "    if len(stone_str) % 2 == 0:\n",
    "        len_result = len(stone_str) // 2\n",
    "        return [int(stone_str[0:len_result]), int(stone_str[len_result:])]\n",
    "    return [stone * 2024]"
   ]
  },
  {
   "cell_type": "markdown",
   "metadata": {},
   "source": [
    "## Apply Update Rule to Stones\n",
    "\n",
    "Apply the update rule to our list of stones."
   ]
  },
  {
   "cell_type": "code",
   "execution_count": 4,
   "metadata": {},
   "outputs": [
    {
     "name": "stdout",
     "output_type": "stream",
     "text": [
      "count = 229043\n"
     ]
    }
   ],
   "source": [
    "stones = STONES\n",
    "for idx in range(25):\n",
    "    stones = [value for list in map(update_stone, stones) for value in list]\n",
    "\n",
    "print(f\"count = {len(stones)}\")"
   ]
  }
 ],
 "metadata": {
  "kernelspec": {
   "display_name": "Python 3",
   "language": "python",
   "name": "python3"
  },
  "language_info": {
   "codemirror_mode": {
    "name": "ipython",
    "version": 3
   },
   "file_extension": ".py",
   "mimetype": "text/x-python",
   "name": "python",
   "nbconvert_exporter": "python",
   "pygments_lexer": "ipython3",
   "version": "3.9.19"
  }
 },
 "nbformat": 4,
 "nbformat_minor": 2
}
