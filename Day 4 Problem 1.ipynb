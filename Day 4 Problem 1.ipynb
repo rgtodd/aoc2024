{
 "cells": [
  {
   "cell_type": "markdown",
   "metadata": {},
   "source": [
    "# Advent of Code - 2024 - Day 4 - Problem 1\n",
    "\n",
    "https://adventofcode.com/2024/day/4\n",
    "\n",
    "## Load Source Data\n",
    "\n",
    "Load source data into `DATA`."
   ]
  },
  {
   "cell_type": "code",
   "execution_count": 1,
   "metadata": {},
   "outputs": [],
   "source": [
    "f = open(\"data/day4.txt\", \"r\")\n",
    "DATA = list(map(str.strip, f.readlines()))\n",
    "f.close()\n"
   ]
  },
  {
   "cell_type": "markdown",
   "metadata": {},
   "source": [
    "## Create LINES\n",
    "\n",
    "Move data into `LINES` array. \n",
    "\n",
    "Determine `SIZE` of text grid."
   ]
  },
  {
   "cell_type": "code",
   "execution_count": 2,
   "metadata": {},
   "outputs": [],
   "source": [
    "LINES = DATA\n",
    "\n",
    "SIZE = len(LINES)\n",
    "assert len(LINES[0]) == SIZE"
   ]
  },
  {
   "cell_type": "markdown",
   "metadata": {},
   "source": [
    "## Define get_diagonal_up_indexes\n",
    "\n",
    "These define the starting (row,col) coordinates when creating strings that go diagonally up from left to right.\n",
    "\n",
    "```\n",
    "X----\n",
    "X----\n",
    "X----\n",
    "X----\n",
    "XXXXX\n",
    "```"
   ]
  },
  {
   "cell_type": "code",
   "execution_count": 3,
   "metadata": {},
   "outputs": [],
   "source": [
    "def get_diagonal_up_indexes():\n",
    "\n",
    "    for row in range(SIZE):\n",
    "        yield (row, 0)\n",
    "\n",
    "    for col in range(1, SIZE):\n",
    "        yield(SIZE-1, col)"
   ]
  },
  {
   "cell_type": "markdown",
   "metadata": {},
   "source": [
    "## Define get_diagonal_down_indexes\n",
    "\n",
    "These define the starting (row,col) coordinates when creating strings that go diagonally down from left to right.\n",
    "\n",
    "```\n",
    "XXXXX\n",
    "X----\n",
    "X----\n",
    "X----\n",
    "X----\n",
    "```"
   ]
  },
  {
   "cell_type": "code",
   "execution_count": 4,
   "metadata": {},
   "outputs": [],
   "source": [
    "def get_diagonal_down_indexes():\n",
    "\n",
    "    for row in range(SIZE-1, -1, -1):\n",
    "        yield (row, 0)\n",
    "\n",
    "    for col in range(1, SIZE):\n",
    "        yield(0, col)"
   ]
  },
  {
   "cell_type": "markdown",
   "metadata": {},
   "source": [
    "## Create LINES_DOWN\n",
    "\n",
    "These are strings from reading the grid from top to bottom."
   ]
  },
  {
   "cell_type": "code",
   "execution_count": 5,
   "metadata": {},
   "outputs": [],
   "source": [
    "LINES_DOWN = []\n",
    "for row in range(SIZE):\n",
    "    line = \"\"\n",
    "    for col in range(SIZE):\n",
    "        line += LINES[col][row]\n",
    "    LINES_DOWN.append(line)"
   ]
  },
  {
   "cell_type": "markdown",
   "metadata": {},
   "source": [
    "## Create LINES_DIAG_UP\n",
    "\n",
    "These are strings reading the grid diagonally up from left to right."
   ]
  },
  {
   "cell_type": "code",
   "execution_count": 6,
   "metadata": {},
   "outputs": [],
   "source": [
    "LINES_DIAG_UP = []\n",
    "for (row,col) in get_diagonal_up_indexes():\n",
    "    line = \"\"\n",
    "    while True:\n",
    "        line += LINES[row][col]\n",
    "        row -= 1\n",
    "        col += 1\n",
    "        if row < 0 or col > SIZE-1: break\n",
    "    LINES_DIAG_UP.append(line)"
   ]
  },
  {
   "cell_type": "markdown",
   "metadata": {},
   "source": [
    "## Create LINES_DIAG_DOWN\n",
    "\n",
    "These are strings reading the grid diagonally down from left to right."
   ]
  },
  {
   "cell_type": "code",
   "execution_count": 7,
   "metadata": {},
   "outputs": [],
   "source": [
    "LINES_DIAG_DOWN = []\n",
    "for (row,col) in get_diagonal_down_indexes():\n",
    "    line = \"\"\n",
    "    while True:\n",
    "        line += LINES[row][col]\n",
    "        row += 1\n",
    "        col += 1\n",
    "        if row > SIZE-1 or col > SIZE-1: break;\n",
    "    LINES_DIAG_DOWN.append(line)"
   ]
  },
  {
   "cell_type": "markdown",
   "metadata": {},
   "source": [
    "## Search for XMAS\n",
    "\n",
    "Search all string arrays for the search pattern.\n",
    "\n",
    "Note: We can't search for occurences of `XMAS|SAMX` since it will only match once instead of twice on `XMASAMX`."
   ]
  },
  {
   "cell_type": "code",
   "execution_count": 8,
   "metadata": {},
   "outputs": [
    {
     "data": {
      "text/plain": [
       "2573"
      ]
     },
     "execution_count": 8,
     "metadata": {},
     "output_type": "execute_result"
    }
   ],
   "source": [
    "import re\n",
    "\n",
    "PATTERN = \"XMAS\"\n",
    "PATTERN_REVERSE = PATTERN[::-1]\n",
    "\n",
    "COUNT = 0\n",
    "for line in LINES:           COUNT += len(re.findall(PATTERN,line)) + len(re.findall(PATTERN_REVERSE,line))\n",
    "for line in LINES_DOWN:      COUNT += len(re.findall(PATTERN,line)) + len(re.findall(PATTERN_REVERSE,line))\n",
    "for line in LINES_DIAG_UP:   COUNT += len(re.findall(PATTERN,line)) + len(re.findall(PATTERN_REVERSE,line))\n",
    "for line in LINES_DIAG_DOWN: COUNT += len(re.findall(PATTERN,line)) + len(re.findall(PATTERN_REVERSE,line))\n",
    "\n",
    "COUNT"
   ]
  }
 ],
 "metadata": {
  "kernelspec": {
   "display_name": "Python 3",
   "language": "python",
   "name": "python3"
  },
  "language_info": {
   "codemirror_mode": {
    "name": "ipython",
    "version": 3
   },
   "file_extension": ".py",
   "mimetype": "text/x-python",
   "name": "python",
   "nbconvert_exporter": "python",
   "pygments_lexer": "ipython3",
   "version": "3.9.19"
  }
 },
 "nbformat": 4,
 "nbformat_minor": 2
}
