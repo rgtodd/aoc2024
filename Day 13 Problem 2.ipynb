{
 "cells": [
  {
   "cell_type": "markdown",
   "metadata": {},
   "source": [
    "# Advent of Code - 2024 - Day 13 - Problem 2\n",
    "\n",
    "https://adventofcode.com/2024/day/13\n",
    "\n",
    "## Load Source Data\n",
    "\n",
    "Load the map data into `DATA`."
   ]
  },
  {
   "cell_type": "code",
   "execution_count": 1,
   "metadata": {},
   "outputs": [],
   "source": [
    "f = open(\"data/day13.txt\", \"r\")\n",
    "DATA = list(map(str.strip, f.readlines()))\n",
    "f.close()"
   ]
  },
  {
   "cell_type": "markdown",
   "metadata": {},
   "source": [
    "## Create Game Class\n",
    "\n",
    "Finds the number of presses by solving the following linear equations:\n",
    "\n",
    "```\n",
    "    A * ax + B * bx = px\n",
    "    A * ay + B * by = py\n",
    "```\n",
    "\n",
    "This only works due to the nature of the input data (i.e., multiple solutions are not possible.)\n",
    "\n",
    "See https://numpy.org/doc/2.1/reference/generated/numpy.linalg.solve.html"
   ]
  },
  {
   "cell_type": "code",
   "execution_count": 2,
   "metadata": {},
   "outputs": [],
   "source": [
    "import numpy as np\n",
    "\n",
    "\n",
    "class Game:\n",
    "\n",
    "    def __init__(self, button_a_x, button_a_y, button_b_x, button_b_y, prize_x, prize_y):\n",
    "        self._button_a_x = button_a_x\n",
    "        self._button_a_y = button_a_y\n",
    "        self._button_b_x = button_b_x\n",
    "        self._button_b_y = button_b_y\n",
    "        self._prize_x = prize_x\n",
    "        self._prize_y = prize_y\n",
    "\n",
    "    def __str__(self):\n",
    "        return (\n",
    "            f\"_button_a_x = {self._button_a_x}, \"\n",
    "            + f\"_button_a_y = {self._button_a_y}, \"\n",
    "            + f\"_button_b_x = {self._button_b_x}, \"\n",
    "            + f\"_button_b_y = {self._button_b_y}, \"\n",
    "            + f\"_prize_x = {self._prize_x}, \"\n",
    "            + f\"_prize_y = {self._prize_y}\"\n",
    "        )\n",
    "\n",
    "    def play(self):\n",
    "\n",
    "        coefficients = np.array([[self._button_a_x, self._button_b_x], [self._button_a_y, self._button_b_y]])\n",
    "        results = np.array([self._prize_x, self._prize_y])\n",
    "        solution = np.linalg.solve(coefficients, results)\n",
    "\n",
    "        # Round to integers and ensure the results are valid (since buttons can't be pressed a \"fractional\" number of times.)\n",
    "        #\n",
    "        a_presses = round(solution[0])\n",
    "        b_presses = round(solution[1])\n",
    "        if (a_presses * self._button_a_x + b_presses * self._button_b_x == self._prize_x) and (\n",
    "            a_presses * self._button_a_y + b_presses * self._button_b_y == self._prize_y\n",
    "        ):\n",
    "            return (a_presses, b_presses)\n",
    "\n",
    "        return (-1, -1)"
   ]
  },
  {
   "cell_type": "markdown",
   "metadata": {},
   "source": [
    "## Parse Data\n",
    "\n",
    "Sample input:\n",
    "\n",
    "```\n",
    "Button A: X+97, Y+12\n",
    "Button B: X+52, Y+63\n",
    "Prize: X=10471, Y=4350\n",
    "```"
   ]
  },
  {
   "cell_type": "code",
   "execution_count": 3,
   "metadata": {},
   "outputs": [],
   "source": [
    "import re\n",
    "\n",
    "GAMES = []\n",
    "\n",
    "BUTTON_REGEX = re.compile(\"Button [AB]: X\\+(\\d+), Y\\+(\\d+)\")\n",
    "PRIZE_REGEX = re.compile(\"Prize: X=(\\d+), Y=(\\d+)\")\n",
    "\n",
    "idx = 0\n",
    "while idx < len(DATA):\n",
    "    button_a = BUTTON_REGEX.match(DATA[idx + 0])\n",
    "    button_b = BUTTON_REGEX.match(DATA[idx + 1])\n",
    "    prize = PRIZE_REGEX.match(DATA[idx + 2])\n",
    "\n",
    "    button_a_x = int(button_a.group(1))\n",
    "    button_a_y = int(button_a.group(2))\n",
    "    button_b_x = int(button_b.group(1))\n",
    "    button_b_y = int(button_b.group(2))\n",
    "    prize_x = int(prize.group(1)) + 10000000000000\n",
    "    prize_y = int(prize.group(2)) + 10000000000000\n",
    "\n",
    "    g = Game(button_a_x, button_a_y, button_b_x, button_b_y, prize_x, prize_y)\n",
    "    GAMES.append(g)\n",
    "    idx += 4"
   ]
  },
  {
   "cell_type": "markdown",
   "metadata": {},
   "source": [
    "## Play Games"
   ]
  },
  {
   "cell_type": "code",
   "execution_count": 4,
   "metadata": {},
   "outputs": [
    {
     "name": "stdout",
     "output_type": "stream",
     "text": [
      "token_count = 98080815200063\n"
     ]
    }
   ],
   "source": [
    "token_count = 0\n",
    "\n",
    "for game in GAMES:\n",
    "    solution = game.play()\n",
    "\n",
    "    a_presses, b_presses = solution\n",
    "    if a_presses != -1 and b_presses != -1:\n",
    "        token_count += (a_presses * 3) + b_presses\n",
    "\n",
    "print(f\"token_count = {token_count}\")"
   ]
  }
 ],
 "metadata": {
  "kernelspec": {
   "display_name": "Python 3",
   "language": "python",
   "name": "python3"
  },
  "language_info": {
   "codemirror_mode": {
    "name": "ipython",
    "version": 3
   },
   "file_extension": ".py",
   "mimetype": "text/x-python",
   "name": "python",
   "nbconvert_exporter": "python",
   "pygments_lexer": "ipython3",
   "version": "3.9.19"
  }
 },
 "nbformat": 4,
 "nbformat_minor": 2
}
