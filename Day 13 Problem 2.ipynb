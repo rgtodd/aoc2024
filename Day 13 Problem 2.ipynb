{
 "cells": [
  {
   "cell_type": "markdown",
   "metadata": {},
   "source": [
    "# Advent of Code - 2024 - Day 13 - Problem 2\n",
    "\n",
    "https://adventofcode.com/2024/day/13\n",
    "\n",
    "## Load Source Data\n",
    "\n",
    "Load the map data into `DATA`."
   ]
  },
  {
   "cell_type": "code",
   "execution_count": 1,
   "metadata": {},
   "outputs": [],
   "source": [
    "f = open(\"data/day13.txt\", \"r\")\n",
    "DATA = list(map(str.strip, f.readlines()))\n",
    "f.close()\n",
    "\n",
    "DATA = \"\"\"Button A: X+94, Y+34\n",
    "Button B: X+22, Y+67\n",
    "Prize: X=8400, Y=5400\n",
    "\n",
    "Button A: X+26, Y+66\n",
    "Button B: X+67, Y+21\n",
    "Prize: X=12748, Y=12176\n",
    "\n",
    "Button A: X+17, Y+86\n",
    "Button B: X+84, Y+37\n",
    "Prize: X=7870, Y=6450\n",
    "\n",
    "Button A: X+69, Y+23\n",
    "Button B: X+27, Y+71\n",
    "Prize: X=18641, Y=10279\"\"\"\n",
    "DATA = list(map(str.strip, DATA.splitlines()))"
   ]
  },
  {
   "cell_type": "markdown",
   "metadata": {},
   "source": [
    "## Create Game Class\n",
    "\n",
    "```\n",
    "    A * ax + B * bx = px\n",
    "    A * ay + B * by = py\n",
    "```"
   ]
  },
  {
   "cell_type": "code",
   "execution_count": 5,
   "metadata": {},
   "outputs": [],
   "source": [
    "import numpy as np\n",
    "\n",
    "class Game:\n",
    "\n",
    "    def __init__(self, button_a_x, button_a_y, button_b_x, button_b_y, prize_x, prize_y):\n",
    "        self._button_a_x = int(button_a_x)\n",
    "        self._button_a_y = int(button_a_y)\n",
    "        self._button_b_x = int(button_b_x)\n",
    "        self._button_b_y = int(button_b_y)\n",
    "        self._prize_x = int(prize_x)\n",
    "        self._prize_y = int(prize_y)\n",
    "\n",
    "    def __str__(self):\n",
    "        return (\n",
    "            f\"_button_a_x = {self._button_a_x}, \"\n",
    "            + f\"_button_a_y = {self._button_a_y}, \"\n",
    "            + f\"_button_b_x = {self._button_b_x}, \"\n",
    "            + f\"_button_b_y = {self._button_b_y}, \"\n",
    "            + f\"_prize_x = {self._prize_x}, \"\n",
    "            + f\"_prize_y = {self._prize_y}\"\n",
    "        )\n",
    "\n",
    "    def play(self):\n",
    "\n",
    "        b_presses = min(self._prize_x // self._button_b_x, self._prize_y // self._button_b_y)\n",
    "\n",
    "        dx = self._prize_x - (b_presses * self._button_b_x)\n",
    "        dy = self._prize_y - (b_presses * self._button_b_y)\n",
    "\n",
    "        if dx == 0 and dy == 0:\n",
    "            return (0, b_presses)\n",
    "\n",
    "        while True:\n",
    "\n",
    "            # See if we can win the game by pressing the A button\n",
    "            #\n",
    "            a_presses = min(dx // self._button_a_x, dy // self._button_a_y)\n",
    "            if dx == (a_presses * self._button_a_x) and dy == (a_presses * self._button_a_y):\n",
    "                return (a_presses, b_presses)\n",
    "\n",
    "            # \"Unpress\" the B button once\n",
    "            #\n",
    "            dx += self._button_b_x\n",
    "            dy += self._button_b_y\n",
    "            b_presses -= 1\n",
    "            if b_presses < 0:\n",
    "                return (-1, -1)\n",
    "            \n",
    "    def play_quicker(self):\n",
    "\n",
    "        coefficients = np.array([[self._button_a_x, self._button_b_x], [self._button_a_y, self._button_b_y]])\n",
    "        results = np.array([self._prize_x, self._prize_y])\n",
    "        solution = np.linalg.solve(coefficients, results)\n",
    "\n",
    "        a_presses = solution[0]\n",
    "        b_presses = solution[1]\n",
    "\n",
    "        if a_presses != int(a_presses) or b_presses != int(b_presses):\n",
    "            return (-1, -1)\n",
    "        \n",
    "        return (int(a_presses), int(b_presses))"
   ]
  },
  {
   "cell_type": "markdown",
   "metadata": {},
   "source": [
    "## Parse Data\n",
    "\n",
    "Sample input:\n",
    "\n",
    "```\n",
    "Button A: X+97, Y+12\n",
    "Button B: X+52, Y+63\n",
    "Prize: X=10471, Y=4350\n",
    "```"
   ]
  },
  {
   "cell_type": "code",
   "execution_count": 3,
   "metadata": {},
   "outputs": [
    {
     "data": {
      "text/plain": [
       "4"
      ]
     },
     "execution_count": 3,
     "metadata": {},
     "output_type": "execute_result"
    }
   ],
   "source": [
    "import re\n",
    "\n",
    "GAMES = []\n",
    "\n",
    "BUTTON_REGEX = re.compile(\"Button [AB]: X\\+(\\d+), Y\\+(\\d+)\")\n",
    "PRIZE_REGEX = re.compile(\"Prize: X=(\\d+), Y=(\\d+)\")\n",
    "\n",
    "idx = 0\n",
    "while idx < len(DATA):\n",
    "    button_a = BUTTON_REGEX.match(DATA[idx + 0])\n",
    "    button_b = BUTTON_REGEX.match(DATA[idx + 1])\n",
    "    prize = PRIZE_REGEX.match(DATA[idx + 2])\n",
    "\n",
    "    button_a_x = button_a.group(1)\n",
    "    button_a_y = button_a.group(2)\n",
    "    button_b_x = button_b.group(1)\n",
    "    button_b_y = button_b.group(2)\n",
    "    prize_x = prize.group(1)\n",
    "    prize_y = prize.group(2)\n",
    "\n",
    "    g = Game(button_a_x, button_a_y, button_b_x, button_b_y, prize_x, prize_y)\n",
    "    GAMES.append(g)\n",
    "    idx += 4\n",
    "\n",
    "len(GAMES)"
   ]
  },
  {
   "cell_type": "markdown",
   "metadata": {},
   "source": [
    "## Play Games"
   ]
  },
  {
   "cell_type": "code",
   "execution_count": 4,
   "metadata": {},
   "outputs": [
    {
     "name": "stdout",
     "output_type": "stream",
     "text": [
      "_button_a_x = 94, _button_a_y = 34, _button_b_x = 22, _button_b_y = 67, _prize_x = 8400, _prize_y = 5400\n",
      "(80, 40)\n",
      "[80. 40.]\n",
      "_button_a_x = 26, _button_a_y = 66, _button_b_x = 67, _button_b_y = 21, _prize_x = 12748, _prize_y = 12176\n",
      "(-1, -1)\n",
      "[141.40454076 135.39525284]\n",
      "_button_a_x = 17, _button_a_y = 86, _button_b_x = 84, _button_b_y = 37, _prize_x = 7870, _prize_y = 6450\n",
      "(38, 86)\n",
      "[38. 86.]\n",
      "_button_a_x = 69, _button_a_y = 23, _button_b_x = 27, _button_b_y = 71, _prize_x = 18641, _prize_y = 10279\n",
      "(-1, -1)\n",
      "[244.50163628  65.56989247]\n",
      "token_count = 480\n"
     ]
    }
   ],
   "source": [
    "token_count = 0\n",
    "\n",
    "for game in GAMES:\n",
    "    print(game)\n",
    "    solution = game.play()\n",
    "    print (solution)\n",
    "    solution = game.play_quicker()\n",
    "    print (solution)\n",
    "\n",
    "    coefficients, results = solution\n",
    "    if coefficients != -1 and results != -1:\n",
    "        token_count += (coefficients * 3) + results\n",
    "\n",
    "print(f\"token_count = {token_count}\")"
   ]
  }
 ],
 "metadata": {
  "kernelspec": {
   "display_name": "Python 3",
   "language": "python",
   "name": "python3"
  },
  "language_info": {
   "codemirror_mode": {
    "name": "ipython",
    "version": 3
   },
   "file_extension": ".py",
   "mimetype": "text/x-python",
   "name": "python",
   "nbconvert_exporter": "python",
   "pygments_lexer": "ipython3",
   "version": "3.9.19"
  }
 },
 "nbformat": 4,
 "nbformat_minor": 2
}
