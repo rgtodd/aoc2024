{
 "cells": [
  {
   "cell_type": "markdown",
   "metadata": {},
   "source": [
    "# Advent of Code - 2024 - Day 9 - Problem 1\n",
    "\n",
    "https://adventofcode.com/2024/day/9\n",
    "\n",
    "## Load Source Data\n",
    "\n",
    "Load the map data into `DATA`."
   ]
  },
  {
   "cell_type": "code",
   "execution_count": 1,
   "metadata": {},
   "outputs": [],
   "source": [
    "f = open(\"data/day9.txt\", \"r\")\n",
    "DATA = f.read()\n",
    "f.close()"
   ]
  },
  {
   "cell_type": "markdown",
   "metadata": {},
   "source": [
    "## Parse DATA\n",
    "\n",
    "Parse the disk map.\n",
    "\n",
    "`DISK` is an array of blocks showing the file ID at each location or -1 for empty blocks.\n",
    "\n",
    "`GAPS` is an array of indexes identifying each empty block."
   ]
  },
  {
   "cell_type": "code",
   "execution_count": 2,
   "metadata": {},
   "outputs": [],
   "source": [
    "DISK = list()\n",
    "GAPS = list()\n",
    "\n",
    "entry_is_file = True\n",
    "file_id = -1\n",
    "disk_index = -1\n",
    "for m in DATA:\n",
    "    size = int(m)\n",
    "    if entry_is_file:\n",
    "        file_id += 1\n",
    "        for i in range(size):\n",
    "            disk_index += 1\n",
    "            DISK.append(file_id)\n",
    "    else:\n",
    "        for i in range(size):\n",
    "            disk_index += 1\n",
    "            DISK.append(-1)\n",
    "            GAPS.append(disk_index)\n",
    "\n",
    "    entry_is_file = not entry_is_file"
   ]
  },
  {
   "cell_type": "markdown",
   "metadata": {},
   "source": [
    "## Compact the Disk\n",
    "\n",
    "Determines the antinode count for list of coordinates."
   ]
  },
  {
   "cell_type": "code",
   "execution_count": 3,
   "metadata": {},
   "outputs": [],
   "source": [
    "for idx in range(len(DISK)-1, -1, -1):\n",
    "    file_id = DISK[idx]\n",
    "    if file_id >= 0:\n",
    "        free_idx = GAPS.pop(0)\n",
    "        if free_idx > idx: break;\n",
    "        DISK[free_idx] = file_id\n",
    "        DISK[idx] = -1"
   ]
  },
  {
   "cell_type": "markdown",
   "metadata": {},
   "source": [
    "## Compute Checksum"
   ]
  },
  {
   "cell_type": "code",
   "execution_count": 4,
   "metadata": {},
   "outputs": [
    {
     "name": "stdout",
     "output_type": "stream",
     "text": [
      "checksum = 6299243228569\n"
     ]
    }
   ],
   "source": [
    "checksum = 0\n",
    "for idx in range(len(DISK)):\n",
    "    file_id = DISK[idx]\n",
    "    if file_id == -1: break;\n",
    "    checksum += file_id * idx\n",
    "\n",
    "print(f\"checksum = {checksum}\")"
   ]
  }
 ],
 "metadata": {
  "kernelspec": {
   "display_name": "Python 3",
   "language": "python",
   "name": "python3"
  },
  "language_info": {
   "codemirror_mode": {
    "name": "ipython",
    "version": 3
   },
   "file_extension": ".py",
   "mimetype": "text/x-python",
   "name": "python",
   "nbconvert_exporter": "python",
   "pygments_lexer": "ipython3",
   "version": "3.9.19"
  }
 },
 "nbformat": 4,
 "nbformat_minor": 2
}
