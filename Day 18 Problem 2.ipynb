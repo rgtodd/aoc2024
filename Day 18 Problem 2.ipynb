{
 "cells": [
  {
   "cell_type": "markdown",
   "metadata": {},
   "source": [
    "# Advent of Code - 2024 - Day 18 - Problem 2\n",
    "\n",
    "https://adventofcode.com/2024/day/18\n",
    "\n",
    "## Load Source Data\n",
    "\n",
    "Load the map data into `DATA`."
   ]
  },
  {
   "cell_type": "code",
   "execution_count": 1,
   "metadata": {},
   "outputs": [],
   "source": [
    "f = open(\"data/day18.txt\", \"r\")\n",
    "DATA = list(map(str.strip, f.readlines()))\n",
    "f.close()"
   ]
  },
  {
   "cell_type": "markdown",
   "metadata": {},
   "source": [
    "## Parse DATA"
   ]
  },
  {
   "cell_type": "code",
   "execution_count": 2,
   "metadata": {},
   "outputs": [],
   "source": [
    "def parse_line(line):\n",
    "    values = line.split(\",\")\n",
    "    return (int(values[0]), int(values[1]))\n",
    "\n",
    "\n",
    "OBSTACLES = list(map(parse_line, DATA))"
   ]
  },
  {
   "cell_type": "markdown",
   "metadata": {},
   "source": [
    "## Create Map Class"
   ]
  },
  {
   "cell_type": "code",
   "execution_count": 3,
   "metadata": {},
   "outputs": [],
   "source": [
    "class Map:\n",
    "\n",
    "    def __init__(self, obstacles, max_x, max_y):\n",
    "        self._obstacles = obstacles\n",
    "        self._max_x = max_x\n",
    "        self._max_y = max_y\n",
    "        self._best_length = None\n",
    "        self._best_distances = dict()\n",
    "\n",
    "    def _get_next_position(self, path):\n",
    "        x, y = path[-1]\n",
    "        if x > 0:\n",
    "            left = (x - 1, y)\n",
    "            if left not in self._obstacles and left not in path:\n",
    "                yield left\n",
    "        if x < self._max_x:\n",
    "            right = (x + 1, y)\n",
    "            if right not in self._obstacles and right not in path:\n",
    "                yield right\n",
    "        if y > 0:\n",
    "            up = (x, y - 1)\n",
    "            if up not in self._obstacles and up not in path:\n",
    "                yield up\n",
    "        if y < self._max_y:\n",
    "            down = (x, y + 1)\n",
    "            if down not in self._obstacles and down not in path:\n",
    "                yield down\n",
    "\n",
    "    def find_path(self, path):\n",
    "        x, y = path[-1]\n",
    "        length = len(path)\n",
    "\n",
    "        if self._best_length != None and length >= self._best_length:\n",
    "            return\n",
    "\n",
    "        if x == self._max_x and y == self._max_y:\n",
    "            if self._best_length == None:\n",
    "                self._best_length = length\n",
    "            else:\n",
    "                self._best_length = min(self._best_length, length)\n",
    "            yield path\n",
    "        else:\n",
    "            for next_position in self._get_next_position(path):\n",
    "                if next_position not in self._best_distances or self._best_distances[next_position] > (length + 1):\n",
    "                    self._best_distances[next_position] = length + 1\n",
    "                    path.append(next_position)\n",
    "                    yield from self.find_path(path)\n",
    "                    path.pop()"
   ]
  },
  {
   "cell_type": "markdown",
   "metadata": {},
   "source": [
    "## Define is_solvable"
   ]
  },
  {
   "cell_type": "code",
   "execution_count": 4,
   "metadata": {},
   "outputs": [],
   "source": [
    "def is_solvable(obstacles):\n",
    "\n",
    "    map = Map(obstacles, 70, 70)\n",
    "    for path in map.find_path([(0, 0)]):\n",
    "        return True\n",
    "\n",
    "    return False"
   ]
  },
  {
   "cell_type": "markdown",
   "metadata": {},
   "source": [
    "## Find Shortest Path"
   ]
  },
  {
   "cell_type": "code",
   "execution_count": 5,
   "metadata": {},
   "outputs": [
    {
     "name": "stdout",
     "output_type": "stream",
     "text": [
      "known_solvable = 2237\n",
      "known_solvable = 2843\n",
      "known_unsolvable = 3146\n",
      "known_unsolvable = 2994\n",
      "known_solvable = 2918\n",
      "known_solvable = 2956\n",
      "known_solvable = 2975\n",
      "known_unsolvable = 2984\n",
      "known_solvable = 2979\n",
      "known_unsolvable = 2981\n",
      "known_unsolvable = 2980\n",
      "first_block = (20, 44)\n"
     ]
    }
   ],
   "source": [
    "known_solvable = 1024\n",
    "known_unsolvable = len(OBSTACLES)\n",
    "while known_unsolvable > known_solvable + 1:\n",
    "    idx = (known_unsolvable + known_solvable) // 2\n",
    "    if is_solvable(OBSTACLES[:idx]):\n",
    "        known_solvable = idx\n",
    "        print(f\"known_solvable = {known_solvable}\")\n",
    "    else:\n",
    "        known_unsolvable = idx\n",
    "        print(f\"known_unsolvable = {known_unsolvable}\")\n",
    "\n",
    "first_block = OBSTACLES[:known_unsolvable][-1]\n",
    "print(f\"first_block = {first_block}\")"
   ]
  }
 ],
 "metadata": {
  "kernelspec": {
   "display_name": "Python 3",
   "language": "python",
   "name": "python3"
  },
  "language_info": {
   "codemirror_mode": {
    "name": "ipython",
    "version": 3
   },
   "file_extension": ".py",
   "mimetype": "text/x-python",
   "name": "python",
   "nbconvert_exporter": "python",
   "pygments_lexer": "ipython3",
   "version": "3.9.21"
  }
 },
 "nbformat": 4,
 "nbformat_minor": 2
}
