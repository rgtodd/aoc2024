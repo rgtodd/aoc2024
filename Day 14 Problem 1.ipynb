{
 "cells": [
  {
   "cell_type": "markdown",
   "metadata": {},
   "source": [
    "# Advent of Code - 2024 - Day 14 - Problem 1\n",
    "\n",
    "https://adventofcode.com/2024/day/14\n",
    "\n",
    "## Load Source Data\n",
    "\n",
    "Load the map data into `DATA`."
   ]
  },
  {
   "cell_type": "code",
   "execution_count": 18,
   "metadata": {},
   "outputs": [],
   "source": [
    "f = open(\"data/day14.txt\", \"r\")\n",
    "DATA = list(map(str.strip, f.readlines()))\n",
    "f.close()\n",
    "\n",
    "LOBBY_WIDTH = 101\n",
    "LOBBY_HEIGHT = 103\n",
    "MOVE_COUNT = 100\n",
    "\n",
    "QUADRANT_WIDTH = LOBBY_WIDTH // 2\n",
    "QUADRANT_HEIGHT = LOBBY_HEIGHT // 2"
   ]
  },
  {
   "cell_type": "markdown",
   "metadata": {},
   "source": [
    "## Create Robot Class"
   ]
  },
  {
   "cell_type": "code",
   "execution_count": 19,
   "metadata": {},
   "outputs": [],
   "source": [
    "import re\n",
    "\n",
    "ROBOT_REGEX = re.compile(\"p=(\\d+),(\\d+) v=(-?\\d+),(-?\\d+)\")\n",
    "\n",
    "\n",
    "class Robot:\n",
    "\n",
    "    def __init__(self, text):\n",
    "\n",
    "        matches = ROBOT_REGEX.match(text)\n",
    "        self._p_x = int(matches.group(1))\n",
    "        self._p_y = int(matches.group(2))\n",
    "        self._v_x = int(matches.group(3))\n",
    "        self._v_y = int(matches.group(4))\n",
    "\n",
    "    def __str__(self):\n",
    "        return f\"(p_x={self._p_x}, p_y={self._p_y}, v_x={self._v_x}, v_y = {self._v_y})\"\n",
    "\n",
    "    def move(self, count):\n",
    "        self._p_x = (self._p_x + self._v_x * count) % LOBBY_WIDTH\n",
    "        self._p_y = (self._p_y + self._v_y * count) % LOBBY_HEIGHT\n",
    "\n",
    "    def get_quadrant(self):\n",
    "        if 0 <= self._p_x < QUADRANT_WIDTH:\n",
    "            if 0 <= self._p_y < QUADRANT_HEIGHT:\n",
    "                return 0\n",
    "            elif self._p_y > QUADRANT_HEIGHT:\n",
    "                return 1\n",
    "            else:\n",
    "                return -1\n",
    "        elif self._p_x > QUADRANT_WIDTH:\n",
    "            if 0 <= self._p_y < QUADRANT_HEIGHT:\n",
    "                return 2\n",
    "            elif self._p_y > QUADRANT_HEIGHT:\n",
    "                return 3\n",
    "            else:\n",
    "                return -1\n",
    "        else:\n",
    "            return -1"
   ]
  },
  {
   "cell_type": "markdown",
   "metadata": {},
   "source": [
    "## Move Robots\n",
    "\n"
   ]
  },
  {
   "cell_type": "code",
   "execution_count": 20,
   "metadata": {},
   "outputs": [
    {
     "name": "stdout",
     "output_type": "stream",
     "text": [
      "safety_factor = 230435667\n"
     ]
    }
   ],
   "source": [
    "import itertools\n",
    "import functools\n",
    "import operator\n",
    "\n",
    "quadrants = list()\n",
    "for line in DATA:\n",
    "    r = Robot(line)\n",
    "    r.move(100)\n",
    "    quadrants.append(r.get_quadrant())\n",
    "\n",
    "quadrant_counts = [(quadrant, len(list(robots))) for quadrant, robots in itertools.groupby(sorted(quadrants))]\n",
    "\n",
    "safety_factor = functools.reduce(operator.mul, [max(qc[1], 1) for qc in quadrant_counts if qc[0] != -1])\n",
    "\n",
    "print(f\"safety_factor = {safety_factor}\")"
   ]
  }
 ],
 "metadata": {
  "kernelspec": {
   "display_name": "Python 3",
   "language": "python",
   "name": "python3"
  },
  "language_info": {
   "codemirror_mode": {
    "name": "ipython",
    "version": 3
   },
   "file_extension": ".py",
   "mimetype": "text/x-python",
   "name": "python",
   "nbconvert_exporter": "python",
   "pygments_lexer": "ipython3",
   "version": "3.9.19"
  }
 },
 "nbformat": 4,
 "nbformat_minor": 2
}
