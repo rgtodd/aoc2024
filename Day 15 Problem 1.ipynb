{
 "cells": [
  {
   "cell_type": "markdown",
   "metadata": {},
   "source": [
    "# Advent of Code - 2024 - Day 15 - Problem 1\n",
    "\n",
    "https://adventofcode.com/2024/day/15\n",
    "\n",
    "## Load Source Data\n",
    "\n",
    "Load the map data into `DATA`."
   ]
  },
  {
   "cell_type": "code",
   "execution_count": 1,
   "metadata": {},
   "outputs": [],
   "source": [
    "f = open(\"data/day15.txt\", \"r\")\n",
    "DATA = list(map(str.strip, f.readlines()))\n",
    "f.close()"
   ]
  },
  {
   "cell_type": "markdown",
   "metadata": {},
   "source": [
    "## Create Map Class"
   ]
  },
  {
   "cell_type": "code",
   "execution_count": 2,
   "metadata": {},
   "outputs": [],
   "source": [
    "CHAR_WALL = \"#\"\n",
    "CHAR_BOX = \"O\"\n",
    "CHAR_ROBOT = \"@\"\n",
    "CHAR_EMPTY = \".\"\n",
    "\n",
    "class Map:\n",
    "\n",
    "    def __init__(self, lines):\n",
    "\n",
    "        self._map_rows = list()\n",
    "        for row in range(len(lines)):\n",
    "            line = lines[row]\n",
    "            map_row = list()\n",
    "            self._map_rows.append(map_row)\n",
    "            for col in range(len(line)):\n",
    "                char = line[col]\n",
    "                map_row.append(char)\n",
    "                if char == CHAR_ROBOT:\n",
    "                    self._robot = (row,col)\n",
    "\n",
    "    def __str__(self):\n",
    "        return \"\\n\".join([\"\".join(line) for line in self._map_rows])\n",
    "\n",
    "    def _get_value(self, location):\n",
    "        return self._map_rows[location[0]][location[1]]\n",
    "    \n",
    "    def _set_value(self, location, value):\n",
    "        self._map_rows[location[0]][location[1]] = value\n",
    "\n",
    "    def _move_box(self, location, delta):\n",
    "        next_location = location\n",
    "        while True:\n",
    "            next_location = (next_location[0] + delta[0], next_location[1] + delta[1])\n",
    "            value = self._get_value(next_location)\n",
    "            if value == CHAR_WALL: return False\n",
    "            elif value == CHAR_ROBOT: raise Exception(\"Ran into another robot!\")\n",
    "            elif value == CHAR_BOX: pass # keep searching \n",
    "            elif value == CHAR_EMPTY:\n",
    "                self._set_value(next_location, CHAR_BOX)\n",
    "                self._set_value(location, CHAR_EMPTY)\n",
    "                return True\n",
    "            else: raise Exception(\"Invalid value found.\")\n",
    "    \n",
    "    def move_robot(self, delta):\n",
    "        destination = (self._robot[0] + delta[0], self._robot[1] + delta[1])\n",
    "        value = self._get_value(destination)\n",
    "\n",
    "        if value == CHAR_BOX:\n",
    "            if not self._move_box(destination, delta):\n",
    "                return False\n",
    "            value = CHAR_EMPTY\n",
    "            \n",
    "        if (value == CHAR_EMPTY):\n",
    "            self._set_value(self._robot, CHAR_EMPTY)\n",
    "            self._robot = destination\n",
    "            self._set_value(self._robot, CHAR_ROBOT)\n",
    "\n",
    "    def get_gps_sum(self):\n",
    "        result = 0\n",
    "        for row in range(len(self._map_rows)):\n",
    "            for col in range(len(self._map_rows[row])):\n",
    "                if self._get_value((row, col)) == CHAR_BOX:\n",
    "                    gps = (row * 100)  + col\n",
    "                    result += gps\n",
    "        return result"
   ]
  },
  {
   "cell_type": "markdown",
   "metadata": {},
   "source": [
    "## Parse Data\n",
    "\n",
    "Parses the input `DATA` into `MAP` and `MOVES`."
   ]
  },
  {
   "cell_type": "code",
   "execution_count": 3,
   "metadata": {},
   "outputs": [],
   "source": [
    "idx = DATA.index(\"\")\n",
    "\n",
    "MAP = Map(DATA[:idx])\n",
    "MOVES = \"\".join(DATA[idx+1:])"
   ]
  },
  {
   "cell_type": "markdown",
   "metadata": {},
   "source": [
    "## Move Robot"
   ]
  },
  {
   "cell_type": "code",
   "execution_count": 4,
   "metadata": {},
   "outputs": [
    {
     "name": "stdout",
     "output_type": "stream",
     "text": [
      "##################################################\n",
      "#.....OOOO#OO.O...##....##.....O....OO........OOO#\n",
      "##.......OOOO.O.O.OO.O.....O.O.OOO.O.O.....O#..#O#\n",
      "##O.#....OOOO#.O..OOO...#.........O...O..........#\n",
      "#O..#O......O.O...OO.........O....O......#...O...#\n",
      "#O..O#..................O#..O...O...#OO......O.O.#\n",
      "#.....O.O....O...#.....OOO............O......#O..#\n",
      "#.....O#O....#.O....OO........O...#..........O#..#\n",
      "#.O...#O.....O..O....O.O..O....#.......O#........#\n",
      "#...............O#...OOO..#.#.O....O#OOO.........#\n",
      "#..#...........#....O#O...OOOOOOOO...#OO.........#\n",
      "#O..O.....O#........#.#...O..OO#....O.O.OOOO..O.O#\n",
      "#O...#...OO..........O#...OO...OO.O...##O#O....#O#\n",
      "#O.OO....#O.OO.....O....O.O....#......OO#OO....OO#\n",
      "#OO.OO....O.O.OO.O.##..#O#O......#.#O#OOO.O..#..O#\n",
      "#OO..OO...O.....#OO...O.....OO...O#..O.#.......OO#\n",
      "#OO..O.....#....O.O....OO...OO...#OO.O#O......O###\n",
      "#OO..##O....OO.O....#...#..O..#..OOO.....##...O#O#\n",
      "#OO......OO.#...O#....#....O#OO....O#O.O..O#..OOO#\n",
      "#O.......#O...........O..O.O...............O..O#.#\n",
      "#O..#O..........O....O.#......#OO.O..........OOO##\n",
      "#OO......#.O..#O.#..#O#O......OO#..#........#OOO.#\n",
      "#.#...........O#O....O.O#....O..............O#O..#\n",
      "#.#...OO....#OO......O..O..O.OOO.#O......OO.OOOO##\n",
      "#OOO........OOOO........O....O.O.........O.OO..OO#\n",
      "#...#......O#.O...........O.#...........OO#....#O#\n",
      "#.......#O.O....#OO.O......O.....O#O...O.#...O..O#\n",
      "#......OOO.OO......O.............O...O....O......#\n",
      "#......O#.O#O......O...........O......OO..O.O....#\n",
      "#........OOOO..#...OOO....O....#O.........OOOOOO.#\n",
      "#..O#OO............OO.........OOO.O#.........O...#\n",
      "#O#OOOO...............#....#....OO......O........#\n",
      "#OOO.O#O.........O........OOO....O.....O#.#@.....#\n",
      "#OOOOO.O........#O....OOOOOO.......OOOO.O........#\n",
      "#OO..#.#.....#..##.#.O#OOOO.........O#O..O.O#....#\n",
      "#O#......O........O..O##OOO..O......O.O..O......O#\n",
      "#OO....OOOO.......#.OOOOO.O........O#....#O.....O#\n",
      "#O..O#O.O.O...#....OOO.....#..OO...OO.O..#O...#.O#\n",
      "#O.....O#.O.O..O#..#...##.......O........#O#...O##\n",
      "#OO.....O....O.OOOOO.....O.....OO#O.......#.....O#\n",
      "###..........O#O.O#O.....#.....#O....#....#...#..#\n",
      "#OO...#...#..OO#.OOO...........O.....O...........#\n",
      "#OO.......O##O.OO#OOOO..O.........O.....#O.......#\n",
      "##OO........O.............O..OOO....#.......OOOO.#\n",
      "#....OOOOOO...#.....OO.....O.O#.O..O....OO#......#\n",
      "#....#.O.OO...............OO....O.O.O#.O.O.O#.#O.#\n",
      "#O..O.....O##O.............OO#.O..#......O..O....#\n",
      "#O...OO..OO#.O....O#.#O.OO##O..#.....O#..#.#.....#\n",
      "##.OO.OO..O.OO......OOO#O.#OO......O#O..OOO.OOO#O#\n",
      "##################################################\n",
      "\n",
      "GPC total = 1414416\n"
     ]
    }
   ],
   "source": [
    "DIRECTIONS = {\n",
    "    \"<\": (0, -1),\n",
    "    \">\": (0, 1),\n",
    "    \"^\": (-1, 0),\n",
    "    \"v\": (1, -0)\n",
    "}\n",
    "\n",
    "for move in MOVES:\n",
    "    MAP.move_robot(DIRECTIONS[move])\n",
    "\n",
    "print(MAP)\n",
    "print(\"\")\n",
    "print(f\"GPC total = {MAP.get_gps_sum()}\")"
   ]
  }
 ],
 "metadata": {
  "kernelspec": {
   "display_name": "Python 3",
   "language": "python",
   "name": "python3"
  },
  "language_info": {
   "codemirror_mode": {
    "name": "ipython",
    "version": 3
   },
   "file_extension": ".py",
   "mimetype": "text/x-python",
   "name": "python",
   "nbconvert_exporter": "python",
   "pygments_lexer": "ipython3",
   "version": "3.9.19"
  }
 },
 "nbformat": 4,
 "nbformat_minor": 2
}
