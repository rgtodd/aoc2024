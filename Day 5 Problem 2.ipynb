{
 "cells": [
  {
   "cell_type": "markdown",
   "metadata": {},
   "source": [
    "# Advent of Code - 2024 - Day 5 - Problem 2\n",
    "\n",
    "https://adventofcode.com/2024/day/5\n",
    "\n",
    "## Load Source Data\n",
    "\n",
    "Load source data into `DATA`.\n",
    "\n",
    "Parse data into `RULE_DATA` and `REPORT_DATA`."
   ]
  },
  {
   "cell_type": "code",
   "execution_count": 1,
   "metadata": {},
   "outputs": [],
   "source": [
    "f = open(\"data/day5.txt\", \"r\")\n",
    "DATA = list(map(str.strip, f.readlines()))\n",
    "f.close()\n",
    "\n",
    "LINES = DATA\n",
    "\n",
    "idx_blank = LINES.index(\"\")\n",
    "\n",
    "RULE_DATA = LINES[0:idx_blank]\n",
    "REPORT_DATA = LINES[idx_blank+1:]\n",
    "\n",
    "assert len(LINES) == len(RULE_DATA) + len(REPORT_DATA) + 1"
   ]
  },
  {
   "cell_type": "markdown",
   "metadata": {},
   "source": [
    "## Define parse_to_integer_array\n",
    "\n",
    "Converts a string of delimited integer values to a list of integers."
   ]
  },
  {
   "cell_type": "code",
   "execution_count": 2,
   "metadata": {},
   "outputs": [],
   "source": [
    "def parse_to_integer_array(value, delimiter):\n",
    "    result = map(int, value.split(delimiter))\n",
    "    return list(result)\n",
    "\n",
    "assert parse_to_integer_array(\"1,2,3\", \",\") == [1,2,3]"
   ]
  },
  {
   "cell_type": "markdown",
   "metadata": {},
   "source": [
    "## Convert Source Data\n",
    "\n",
    "Create `RULES` and `REPORTS` by converting `RULE_DATA` and `REPORT_DATA` into integer lists.\n",
    "\n",
    "Note: `RULES` is sorted by ascending index. This ensures that when data is fixed, we're sweeping (and fixing) the pages from lowest to highest page number."
   ]
  },
  {
   "cell_type": "code",
   "execution_count": 3,
   "metadata": {},
   "outputs": [],
   "source": [
    "RULES = list(map(lambda value: parse_to_integer_array(value,\"|\"), RULE_DATA))\n",
    "REPORTS = list(map(lambda value: parse_to_integer_array(value, \",\"), REPORT_DATA))\n",
    "\n",
    "RULES.sort(key=lambda value: value[0] * 100 + value[1])\n",
    "\n",
    "assert len(LINES) == len(RULES) + len(REPORTS) + 1"
   ]
  },
  {
   "cell_type": "markdown",
   "metadata": {},
   "source": [
    "## Define is_valid_report\n",
    "\n",
    "Ensures the specified report satisfies all rules."
   ]
  },
  {
   "cell_type": "code",
   "execution_count": 4,
   "metadata": {},
   "outputs": [],
   "source": [
    "def is_valid_report(report):\n",
    "\n",
    "    for rule in RULES:\n",
    "        try:\n",
    "            idx0 = report.index(rule[0])\n",
    "            idx1 = report.index(rule[1])\n",
    "            if idx0 > idx1: return False\n",
    "        except ValueError:\n",
    "            pass\n",
    "\n",
    "    return True"
   ]
  },
  {
   "cell_type": "markdown",
   "metadata": {},
   "source": [
    "## Define fix_report\n",
    "\n",
    "Ensures the report satisfies all rules."
   ]
  },
  {
   "cell_type": "code",
   "execution_count": 5,
   "metadata": {},
   "outputs": [],
   "source": [
    "def fix_report(report):\n",
    "\n",
    "    for rule in RULES:\n",
    "        try:\n",
    "            idx0 = report.index(rule[0])\n",
    "            idx1 = report.index(rule[1])\n",
    "            if idx0 > idx1:\n",
    "                temp = report.pop(idx0)\n",
    "                report.insert(idx1, temp)\n",
    "        except ValueError:\n",
    "            pass"
   ]
  },
  {
   "cell_type": "markdown",
   "metadata": {},
   "source": [
    "## Fix All Invalid Reports\n",
    "\n",
    "Note: this will update `REPORTS`."
   ]
  },
  {
   "cell_type": "code",
   "execution_count": 6,
   "metadata": {},
   "outputs": [
    {
     "name": "stdout",
     "output_type": "stream",
     "text": [
      "total = 5285\n"
     ]
    }
   ],
   "source": [
    "total = 0\n",
    "for report in REPORTS:\n",
    "    if not is_valid_report(report):\n",
    "        fix_report(report)\n",
    "        assert is_valid_report(report)\n",
    "        idx_middle = (len(report) - 1) // 2\n",
    "        total += report[idx_middle]\n",
    "\n",
    "print(f\"total = {total}\")"
   ]
  }
 ],
 "metadata": {
  "kernelspec": {
   "display_name": "Python 3",
   "language": "python",
   "name": "python3"
  },
  "language_info": {
   "codemirror_mode": {
    "name": "ipython",
    "version": 3
   },
   "file_extension": ".py",
   "mimetype": "text/x-python",
   "name": "python",
   "nbconvert_exporter": "python",
   "pygments_lexer": "ipython3",
   "version": "3.9.19"
  }
 },
 "nbformat": 4,
 "nbformat_minor": 2
}
