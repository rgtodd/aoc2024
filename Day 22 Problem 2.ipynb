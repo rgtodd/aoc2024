{
 "cells": [
  {
   "cell_type": "markdown",
   "metadata": {},
   "source": [
    "# Advent of Code - 2024 - Day 22 - Problem 2\n",
    "\n",
    "https://adventofcode.com/2024/day/22\n",
    "\n",
    "## Load Source Data\n",
    "\n",
    "Load the map data into `DATA`."
   ]
  },
  {
   "cell_type": "code",
   "execution_count": 1,
   "metadata": {},
   "outputs": [],
   "source": [
    "f = open(\"data/day22.txt\", \"r\")\n",
    "DATA = list(map(str.strip, f.readlines()))\n",
    "f.close()"
   ]
  },
  {
   "cell_type": "markdown",
   "metadata": {},
   "source": [
    "## Define get_next_random\n",
    "\n"
   ]
  },
  {
   "cell_type": "code",
   "execution_count": 2,
   "metadata": {},
   "outputs": [],
   "source": [
    "def get_next_random(value, repeat):\n",
    "    for r in range(repeat):\n",
    "        value = ((value * 64) ^ value) % 16777216\n",
    "        value = ((value // 32) ^ value) % 16777216\n",
    "        value = ((value * 2048) ^ value) % 16777216\n",
    "    return value"
   ]
  },
  {
   "cell_type": "markdown",
   "metadata": {},
   "source": [
    "## Define get_price_list\n",
    "\n",
    "This is a dictionary that associates a banana count with each unique price change string (e.g., \"1,5,-2,0\")."
   ]
  },
  {
   "cell_type": "code",
   "execution_count": 3,
   "metadata": {},
   "outputs": [],
   "source": [
    "def get_prices(random_number):\n",
    "    last_banana_count = 0\n",
    "    difference1 = 0\n",
    "    difference2 = 0\n",
    "    difference3 = 0\n",
    "    difference4 = 0\n",
    "    for idx in range(2000):\n",
    "        banana_count = random_number % 10\n",
    "        difference4 = difference3\n",
    "        difference3 = difference2\n",
    "        difference2 = difference1\n",
    "        difference1 = banana_count - last_banana_count\n",
    "        if idx >= 4:\n",
    "            product = f\"{difference4},{difference3},{difference2},{difference1}\"\n",
    "            yield (product, banana_count)\n",
    "        random_number = get_next_random(random_number, 1)\n",
    "        last_banana_count = banana_count\n",
    "\n",
    "\n",
    "def get_price_list(random_number):\n",
    "    result = dict()\n",
    "    for product, price in get_prices(random_number):\n",
    "        if product not in result:\n",
    "            result[product] = price\n",
    "    return result"
   ]
  },
  {
   "cell_type": "markdown",
   "metadata": {},
   "source": [
    "## Determine Best Price Change String\n",
    "\n",
    "Obtains all price lists and determines the price change string that produces the greatest number of bananas."
   ]
  },
  {
   "cell_type": "code",
   "execution_count": 4,
   "metadata": {},
   "outputs": [
    {
     "name": "stdout",
     "output_type": "stream",
     "text": [
      "best_banana_count = 1555, best_product = -1,2,0,0\n"
     ]
    }
   ],
   "source": [
    "price_lists = [get_price_list(int(r)) for r in DATA]\n",
    "\n",
    "all_products = set()\n",
    "for price_list in price_lists:\n",
    "    all_products.update(price_list.keys())\n",
    "\n",
    "best_banana_count = 0\n",
    "best_product = None\n",
    "for product in all_products:\n",
    "    total_banana_count = 0\n",
    "    for price_list in price_lists:\n",
    "        if product in price_list:\n",
    "            total_banana_count += price_list[product]\n",
    "    if total_banana_count > best_banana_count:\n",
    "        best_banana_count = total_banana_count\n",
    "        best_product = product\n",
    "\n",
    "print(f\"best_banana_count = {best_banana_count}, best_product = {best_product}\")"
   ]
  }
 ],
 "metadata": {
  "kernelspec": {
   "display_name": "Python 3",
   "language": "python",
   "name": "python3"
  },
  "language_info": {
   "codemirror_mode": {
    "name": "ipython",
    "version": 3
   },
   "file_extension": ".py",
   "mimetype": "text/x-python",
   "name": "python",
   "nbconvert_exporter": "python",
   "pygments_lexer": "ipython3",
   "version": "3.9.21"
  }
 },
 "nbformat": 4,
 "nbformat_minor": 2
}
