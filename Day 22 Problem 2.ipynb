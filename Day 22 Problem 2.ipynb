{
 "cells": [
  {
   "cell_type": "markdown",
   "metadata": {},
   "source": [
    "# Advent of Code - 2024 - Day 22 - Problem 2\n",
    "\n",
    "https://adventofcode.com/2024/day/22\n",
    "\n",
    "## Load Source Data\n",
    "\n",
    "Load the map data into `DATA`."
   ]
  },
  {
   "cell_type": "code",
   "execution_count": 34,
   "metadata": {},
   "outputs": [],
   "source": [
    "f = open(\"data/day22.txt\", \"r\")\n",
    "DATA = list(map(str.strip, f.readlines()))\n",
    "f.close()\n",
    "\n",
    "# DATA = ['1','2','3','2024']"
   ]
  },
  {
   "cell_type": "markdown",
   "metadata": {},
   "source": [
    "## Define get_next_random\n",
    "\n"
   ]
  },
  {
   "cell_type": "code",
   "execution_count": 35,
   "metadata": {},
   "outputs": [],
   "source": [
    "def get_next_random(value, repeat):\n",
    "    for r in range(repeat):\n",
    "        value = ((value * 64) ^ value) % 16777216\n",
    "        value = ((value // 32) ^ value)% 16777216\n",
    "        value = ((value * 2048) ^ value)% 16777216\n",
    "    return value"
   ]
  },
  {
   "cell_type": "markdown",
   "metadata": {},
   "source": [
    "## Define get_price_list"
   ]
  },
  {
   "cell_type": "code",
   "execution_count": 36,
   "metadata": {},
   "outputs": [
    {
     "name": "stdout",
     "output_type": "stream",
     "text": [
      "1924\n"
     ]
    }
   ],
   "source": [
    "def get_prices(value):\n",
    "    last_price = 0\n",
    "    difference1 = 0\n",
    "    difference2 = 0\n",
    "    difference3 = 0\n",
    "    difference4 = 0\n",
    "    for idx in range(2000):\n",
    "        price = value % 10\n",
    "        difference4 = difference3\n",
    "        difference3 = difference2\n",
    "        difference2 = difference1\n",
    "        difference1 = price - last_price\n",
    "        if idx >=4:\n",
    "            product = f\"{difference4},{difference3},{difference2},{difference1}\"\n",
    "            yield (product, price)\n",
    "        value = get_next_random(value, 1)\n",
    "        last_price = price\n",
    "\n",
    "def get_price_list(value):\n",
    "    result = dict()\n",
    "    for product, price in get_prices(value):\n",
    "        if product not in result:\n",
    "            result[product] = price\n",
    "    return result\n",
    "\n",
    "price_list = get_price_list(2024)\n",
    "print(len(price_list.keys()))"
   ]
  },
  {
   "cell_type": "markdown",
   "metadata": {},
   "source": [
    "## Compute Random Numbers"
   ]
  },
  {
   "cell_type": "code",
   "execution_count": 37,
   "metadata": {},
   "outputs": [
    {
     "name": "stdout",
     "output_type": "stream",
     "text": [
      "best_price = $1555, best_product = $-1,2,0,0\n"
     ]
    }
   ],
   "source": [
    "price_lists = [get_price_list(int(r)) for r in DATA]\n",
    "\n",
    "all_products = set()\n",
    "for price_list in price_lists:\n",
    "    all_products.update(price_list.keys())\n",
    "\n",
    "best_price = 0\n",
    "best_product = None\n",
    "for product in all_products:\n",
    "    total_price = 0\n",
    "    for price_list in price_lists:\n",
    "        if product in price_list: total_price += price_list[product]\n",
    "    if total_price > best_price:\n",
    "        best_price = total_price\n",
    "        best_product = product\n",
    "\n",
    "print(f\"best_price = ${best_price}, best_product = ${best_product}\")\n",
    "    "
   ]
  }
 ],
 "metadata": {
  "kernelspec": {
   "display_name": "Python 3",
   "language": "python",
   "name": "python3"
  },
  "language_info": {
   "codemirror_mode": {
    "name": "ipython",
    "version": 3
   },
   "file_extension": ".py",
   "mimetype": "text/x-python",
   "name": "python",
   "nbconvert_exporter": "python",
   "pygments_lexer": "ipython3",
   "version": "3.9.21"
  }
 },
 "nbformat": 4,
 "nbformat_minor": 2
}
