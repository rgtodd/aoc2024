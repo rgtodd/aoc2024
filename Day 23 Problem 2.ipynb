{
 "cells": [
  {
   "cell_type": "markdown",
   "metadata": {},
   "source": [
    "# Advent of Code - 2024 - Day 23 - Problem 2\n",
    "\n",
    "https://adventofcode.com/2024/day/23\n",
    "\n",
    "Note: Uses the `igraph` library.\n",
    "\n",
    "## Load Source Data\n",
    "\n",
    "Load the map data into `DATA`."
   ]
  },
  {
   "cell_type": "code",
   "execution_count": 1,
   "metadata": {},
   "outputs": [],
   "source": [
    "f = open(\"data/day23.txt\", \"r\")\n",
    "DATA = list(map(str.strip, f.readlines()))\n",
    "f.close()"
   ]
  },
  {
   "cell_type": "markdown",
   "metadata": {},
   "source": [
    "## Construct Graph\n",
    "\n"
   ]
  },
  {
   "cell_type": "code",
   "execution_count": 2,
   "metadata": {},
   "outputs": [],
   "source": [
    "import igraph as ig\n",
    "\n",
    "GRAPH = ig.Graph.Formula(\",\".join(DATA))"
   ]
  },
  {
   "cell_type": "markdown",
   "metadata": {},
   "source": [
    "## Identify Largest Clique and Compute Password"
   ]
  },
  {
   "cell_type": "code",
   "execution_count": 3,
   "metadata": {},
   "outputs": [
    {
     "name": "stdout",
     "output_type": "stream",
     "text": [
      "password = av,ax,dg,di,dw,fa,ge,kh,ki,ot,qw,vz,yw\n"
     ]
    }
   ],
   "source": [
    "max_clique_number = GRAPH.clique_number()\n",
    "\n",
    "for clique in GRAPH.cliques(max_clique_number):\n",
    "    names = []\n",
    "    \n",
    "    for idx in clique:\n",
    "        name = GRAPH.vs[idx][\"name\"]\n",
    "        names.append(name)\n",
    "\n",
    "    names.sort()\n",
    "    password = \",\".join(names)\n",
    "    print(f\"password = {password}\")"
   ]
  }
 ],
 "metadata": {
  "kernelspec": {
   "display_name": "Python 3",
   "language": "python",
   "name": "python3"
  },
  "language_info": {
   "codemirror_mode": {
    "name": "ipython",
    "version": 3
   },
   "file_extension": ".py",
   "mimetype": "text/x-python",
   "name": "python",
   "nbconvert_exporter": "python",
   "pygments_lexer": "ipython3",
   "version": "3.9.21"
  }
 },
 "nbformat": 4,
 "nbformat_minor": 2
}
