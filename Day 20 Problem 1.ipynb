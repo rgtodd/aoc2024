{
 "cells": [
  {
   "cell_type": "markdown",
   "metadata": {},
   "source": [
    "# Advent of Code - 2024 - Day 20 - Problem 1\n",
    "\n",
    "https://adventofcode.com/2024/day/20\n",
    "\n",
    "## Load Source Data\n",
    "\n",
    "Load the map data into `DATA`."
   ]
  },
  {
   "cell_type": "code",
   "execution_count": 5,
   "metadata": {},
   "outputs": [
    {
     "data": {
      "text/plain": [
       "['###############',\n",
       " '#...#...#.....#',\n",
       " '#.#.#.#.#.###.#',\n",
       " '#S#...#.#.#...#',\n",
       " '#######.#.#.###',\n",
       " '#######.#.#...#',\n",
       " '#######.#.###.#',\n",
       " '###..E#...#...#',\n",
       " '###.#######.###',\n",
       " '#...###...#...#',\n",
       " '#.#####.#.###.#',\n",
       " '#.#...#.#.#...#',\n",
       " '#.#.#.#.#.#.###',\n",
       " '#...#...#...###',\n",
       " '###############']"
      ]
     },
     "execution_count": 5,
     "metadata": {},
     "output_type": "execute_result"
    }
   ],
   "source": [
    "f = open(\"data/day20.txt\", \"r\")\n",
    "DATA = list(map(str.strip, f.readlines()))\n",
    "f.close()\n",
    "\n",
    "DATA=\"\"\"###############\n",
    "#...#...#.....#\n",
    "#.#.#.#.#.###.#\n",
    "#S#...#.#.#...#\n",
    "#######.#.#.###\n",
    "#######.#.#...#\n",
    "#######.#.###.#\n",
    "###..E#...#...#\n",
    "###.#######.###\n",
    "#...###...#...#\n",
    "#.#####.#.###.#\n",
    "#.#...#.#.#...#\n",
    "#.#.#.#.#.#.###\n",
    "#...#...#...###\n",
    "###############\"\"\"\n",
    "DATA = list(map(str.strip, DATA.splitlines()))\n",
    "\n",
    "DATA"
   ]
  },
  {
   "cell_type": "markdown",
   "metadata": {},
   "source": [
    "## Create Map Class"
   ]
  },
  {
   "cell_type": "code",
   "execution_count": 8,
   "metadata": {},
   "outputs": [],
   "source": [
    "class Map:\n",
    "\n",
    "    def __init__(self, lines):\n",
    "        self._lines = list(map(list, DATA))\n",
    "        self._rows = len(self._lines)\n",
    "        self._cols = len(self._lines[0])\n",
    "\n",
    "        # Find the starting position\n",
    "        #\n",
    "        for row in range(self._rows):\n",
    "            for col in range(self._cols):\n",
    "                if self._lines[row][col] == \"S\":\n",
    "                    self._start = (row, col)\n",
    "                    break"
   ]
  },
  {
   "cell_type": "markdown",
   "metadata": {},
   "source": [
    "## Create Path Class"
   ]
  },
  {
   "cell_type": "code",
   "execution_count": 9,
   "metadata": {},
   "outputs": [],
   "source": [
    "class Path:\n",
    "\n",
    "    def __init__(self, position):\n",
    "        self._position = position"
   ]
  },
  {
   "cell_type": "markdown",
   "metadata": {},
   "source": [
    "## Find Solutions"
   ]
  },
  {
   "cell_type": "code",
   "execution_count": 4,
   "metadata": {},
   "outputs": [
    {
     "name": "stdout",
     "output_type": "stream",
     "text": [
      "304\n"
     ]
    }
   ],
   "source": [
    "MAP = Map(DATA)\n"
   ]
  }
 ],
 "metadata": {
  "kernelspec": {
   "display_name": "Python 3",
   "language": "python",
   "name": "python3"
  },
  "language_info": {
   "codemirror_mode": {
    "name": "ipython",
    "version": 3
   },
   "file_extension": ".py",
   "mimetype": "text/x-python",
   "name": "python",
   "nbconvert_exporter": "python",
   "pygments_lexer": "ipython3",
   "version": "3.9.21"
  }
 },
 "nbformat": 4,
 "nbformat_minor": 2
}
