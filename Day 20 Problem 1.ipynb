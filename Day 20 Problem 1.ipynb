{
 "cells": [
  {
   "cell_type": "markdown",
   "metadata": {},
   "source": [
    "# Advent of Code - 2024 - Day 20 - Problem 1\n",
    "\n",
    "https://adventofcode.com/2024/day/20\n",
    "\n",
    "## Load Source Data\n",
    "\n",
    "Load the map data into `DATA`."
   ]
  },
  {
   "cell_type": "code",
   "execution_count": null,
   "metadata": {},
   "outputs": [],
   "source": [
    "f = open(\"data/day20.txt\", \"r\")\n",
    "DATA = list(map(str.strip, f.readlines()))\n",
    "f.close()"
   ]
  },
  {
   "cell_type": "markdown",
   "metadata": {},
   "source": [
    "## Create Map Class"
   ]
  },
  {
   "cell_type": "code",
   "execution_count": 2,
   "metadata": {},
   "outputs": [],
   "source": [
    "class Map:\n",
    "\n",
    "    def __init__(self, lines):\n",
    "        self._lines = list(map(list, DATA))\n",
    "        self._rows = len(self._lines)\n",
    "        self._cols = len(self._lines[0])\n",
    "\n",
    "        # Find the starting position\n",
    "        #\n",
    "        for row in range(self._rows):\n",
    "            for col in range(self._cols):\n",
    "                if self._lines[row][col] == \"S\":\n",
    "                    self._start = (row, col)\n",
    "                if self._lines[row][col] == \"E\":\n",
    "                    self._end = (row, col)\n",
    "\n",
    "    def can_move(self, target):\n",
    "        return target != \"#\"\n",
    "\n",
    "    def get_next_positions(self, position):\n",
    "        row, col = position\n",
    "        if row > 0:\n",
    "            target = self._lines[row - 1][col]\n",
    "            if self.can_move(target):\n",
    "                yield (row - 1, col)\n",
    "        if row < self._rows - 1:\n",
    "            target = self._lines[row + 1][col]\n",
    "            if self.can_move(target):\n",
    "                yield (row + 1, col)\n",
    "        if col > 0:\n",
    "            target = self._lines[row][col - 1]\n",
    "            if self.can_move(target):\n",
    "                yield (row, col - 1)\n",
    "        if col < self._cols - 1:\n",
    "            target = self._lines[row][col + 1]\n",
    "            if self.can_move(target):\n",
    "                yield (row, col + 1)\n",
    "\n",
    "    def find_paths(self, path):\n",
    "\n",
    "        last_position = path[-1]\n",
    "        for next_position in self.get_next_positions(last_position):\n",
    "            if not next_position in path:\n",
    "                new_path = list(path)\n",
    "                new_path.append(next_position)\n",
    "                if next_position == self._end:\n",
    "                    yield new_path\n",
    "                else:\n",
    "                    yield from self.find_paths(new_path)\n",
    "\n",
    "    def find_cheats(self, location, length):\n",
    "\n",
    "        cheats = set()\n",
    "\n",
    "        location_row, location_col = location\n",
    "\n",
    "        for row in range(length + 1):\n",
    "            for col in range(length - row + 1):\n",
    "                if location_row + row < self._rows:\n",
    "                    if location_col + col < self._cols:\n",
    "                        cheats.add(((location_row + row, location_col + col), row + col))\n",
    "                    if location_col + col > 0:\n",
    "                        cheats.add(((location_row + row, location_col - col), row + col))\n",
    "                if location_row - row > 0:\n",
    "                    if location_col + col < self._cols:\n",
    "                        cheats.add(((location_row - row, location_col + col), row + col))\n",
    "                    if location_col + col > 0:\n",
    "                        cheats.add(((location_row - row, location_col - col), row + col))\n",
    "\n",
    "        return cheats"
   ]
  },
  {
   "cell_type": "markdown",
   "metadata": {},
   "source": [
    "## Find Solutions"
   ]
  },
  {
   "cell_type": "code",
   "execution_count": 3,
   "metadata": {},
   "outputs": [
    {
     "name": "stdout",
     "output_type": "stream",
     "text": [
      "total_count = 1521\n"
     ]
    }
   ],
   "source": [
    "import sys\n",
    "\n",
    "sys.setrecursionlimit(10000)\n",
    "\n",
    "m = Map(DATA)\n",
    "\n",
    "starting_path = [m._start]\n",
    "\n",
    "# Find the path without cheating\n",
    "#\n",
    "for path in m.find_paths(starting_path):\n",
    "    honest_path = path\n",
    "    break\n",
    "\n",
    "honest_path_length = len(honest_path)\n",
    "\n",
    "lengths_to_exit = dict()\n",
    "for idx in range(len(honest_path)):\n",
    "    location = honest_path[idx]\n",
    "    length_to_exit = honest_path_length - idx\n",
    "    lengths_to_exit[location] = length_to_exit\n",
    "\n",
    "improvements = dict()\n",
    "for idx in range(len(honest_path)):\n",
    "    position = honest_path[idx]\n",
    "    for cheat_position, cheat_length in m.find_cheats(position, 2):\n",
    "        if cheat_position in lengths_to_exit:\n",
    "            cheat_length = idx + cheat_length + lengths_to_exit[cheat_position]\n",
    "            improvement = honest_path_length - cheat_length\n",
    "            if improvement >= 100:\n",
    "                if improvement not in improvements:\n",
    "                    improvements[improvement] = 1\n",
    "                else:\n",
    "                    improvements[improvement] += 1\n",
    "\n",
    "total_count = 0\n",
    "for improvement in improvements:\n",
    "    total_count += improvements[improvement]\n",
    "print(f\"total_count = {total_count}\")"
   ]
  }
 ],
 "metadata": {
  "kernelspec": {
   "display_name": "Python 3",
   "language": "python",
   "name": "python3"
  },
  "language_info": {
   "codemirror_mode": {
    "name": "ipython",
    "version": 3
   },
   "file_extension": ".py",
   "mimetype": "text/x-python",
   "name": "python",
   "nbconvert_exporter": "python",
   "pygments_lexer": "ipython3",
   "version": "3.9.21"
  }
 },
 "nbformat": 4,
 "nbformat_minor": 2
}
