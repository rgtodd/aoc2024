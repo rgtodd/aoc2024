{
 "cells": [
  {
   "cell_type": "markdown",
   "metadata": {},
   "source": [
    "# Advent of Code - 2024 - Day 7 - Problem 2\n",
    "\n",
    "https://adventofcode.com/2024/day/7\n",
    "\n",
    "## Load Source Data\n",
    "\n",
    "Load the map data into `DATA`."
   ]
  },
  {
   "cell_type": "code",
   "execution_count": 1,
   "metadata": {},
   "outputs": [],
   "source": [
    "f = open(\"data/day7.txt\", \"r\")\n",
    "DATA = list(map(str.strip, f.readlines()))\n",
    "f.close()"
   ]
  },
  {
   "cell_type": "markdown",
   "metadata": {},
   "source": [
    "## Create Equation Class"
   ]
  },
  {
   "cell_type": "code",
   "execution_count": 2,
   "metadata": {},
   "outputs": [],
   "source": [
    "class Equation:\n",
    "\n",
    "    def __init__(self, text):\n",
    "\n",
    "        idxColon = text.find(\":\")\n",
    "        self.expectedResult = int(text[:idxColon])\n",
    "        self.values = list(map(int,text[idxColon+1:].split()))\n",
    "\n",
    "    def get_possible_results(self, idx):\n",
    "        if (idx == 0):\n",
    "            yield self.values[idx]\n",
    "        else:\n",
    "            for r in self.get_possible_results(idx-1):\n",
    "                yield r + self.values[idx]\n",
    "                yield r * self.values[idx]\n",
    "                yield int(str(r) + str(self.values[idx]))\n",
    "\n",
    "    def get_all_possible_results(self):\n",
    "        return self.get_possible_results(len(self.values)-1)"
   ]
  },
  {
   "cell_type": "markdown",
   "metadata": {},
   "source": [
    "## Evaluate All Equations"
   ]
  },
  {
   "cell_type": "code",
   "execution_count": 3,
   "metadata": {},
   "outputs": [
    {
     "name": "stdout",
     "output_type": "stream",
     "text": [
      "total = 348360680516005\n"
     ]
    }
   ],
   "source": [
    "total = 0\n",
    "for line in DATA:\n",
    "    e = Equation(line)\n",
    "    possible_results = list(e.get_all_possible_results())\n",
    "    if e.expectedResult in possible_results:\n",
    "        total += e.expectedResult\n",
    "\n",
    "print(f\"total = {total}\")"
   ]
  }
 ],
 "metadata": {
  "kernelspec": {
   "display_name": "Python 3",
   "language": "python",
   "name": "python3"
  },
  "language_info": {
   "codemirror_mode": {
    "name": "ipython",
    "version": 3
   },
   "file_extension": ".py",
   "mimetype": "text/x-python",
   "name": "python",
   "nbconvert_exporter": "python",
   "pygments_lexer": "ipython3",
   "version": "3.9.19"
  }
 },
 "nbformat": 4,
 "nbformat_minor": 2
}
