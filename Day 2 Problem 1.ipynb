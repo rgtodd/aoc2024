{
 "cells": [
  {
   "cell_type": "markdown",
   "metadata": {},
   "source": [
    "# Advent of Code - 2024 - Day 2 - Problem 1\n",
    "\n",
    "https://adventofcode.com/2024/day/2\n",
    "\n",
    "## Load Source Data\n",
    "\n",
    "Load source data into `DATA`.\n",
    "\n",
    "Parse the data into `reports`. This is a list of \"report\" objects. Each \"report\" object is a list of integer values."
   ]
  },
  {
   "cell_type": "code",
   "execution_count": 1,
   "metadata": {},
   "outputs": [],
   "source": [
    "f = open(\"data/day2.txt\", \"r\")\n",
    "DATA = list(map(str.strip, f.readlines()))\n",
    "f.close()\n",
    "\n",
    "reports = list(map(lambda element: list(map(lambda e: int(e), element.split())), DATA))\n",
    "\n",
    "assert len(reports) == 1000"
   ]
  },
  {
   "cell_type": "markdown",
   "metadata": {},
   "source": [
    "## Define `is_monotonic` \n",
    "\n",
    "This determines if a list of values is either monotonically increasing or decreasing."
   ]
  },
  {
   "cell_type": "code",
   "execution_count": null,
   "metadata": {},
   "outputs": [],
   "source": [
    "def is_monotonic(values):\n",
    "\n",
    "    assert len(values) >= 2\n",
    "\n",
    "    # See if the list begins with increasing (True) or decreasing (False) values\n",
    "    is_increasing = values[1] > values[0]\n",
    "\n",
    "    # Ensure the remaining values are also increasing or decreasing\n",
    "    for idx in range(2, len(values)):\n",
    "        if (values[idx] > values[idx - 1]) != is_increasing:\n",
    "            return False\n",
    "\n",
    "    return True\n",
    "\n",
    "\n",
    "assert is_monotonic([1, 2])\n",
    "assert is_monotonic([2, 1])\n",
    "assert is_monotonic([1, 2, 3, 4])\n",
    "assert is_monotonic([4, 3, 2, 1])\n",
    "assert not is_monotonic([1, 2, 1, 2])\n",
    "assert not is_monotonic([1, 2, 3, 2])\n",
    "assert not is_monotonic([4, 3, 4, 3])\n",
    "assert not is_monotonic([4, 3, 2, 3])"
   ]
  },
  {
   "cell_type": "markdown",
   "metadata": {},
   "source": [
    "## Define has_invalid_difference\n",
    "\n",
    "This determines if two adjacent values are equal or differ by more than three."
   ]
  },
  {
   "cell_type": "code",
   "execution_count": null,
   "metadata": {},
   "outputs": [],
   "source": [
    "def has_invalid_difference(values):\n",
    "\n",
    "    assert len(values) >= 2\n",
    "\n",
    "    for idx in range(1, len(values)):\n",
    "        difference = abs(values[idx] - values[idx - 1])\n",
    "        if difference == 0 or difference > 3:\n",
    "            return True\n",
    "\n",
    "    return False\n",
    "\n",
    "\n",
    "assert not has_invalid_difference([1, 2, 3, 4])\n",
    "assert not has_invalid_difference([1, 2, 4, 5])\n",
    "assert not has_invalid_difference([1, 2, 5, 6])\n",
    "assert not has_invalid_difference([5, 4, 2, 1])\n",
    "assert not has_invalid_difference([5, 4, 1, 0])\n",
    "assert has_invalid_difference([1, 2, 2, 4])\n",
    "assert has_invalid_difference([1, 2, 6, 7])\n",
    "assert has_invalid_difference([5, 4, 0, 1])"
   ]
  },
  {
   "cell_type": "markdown",
   "metadata": {},
   "source": [
    "## Define report_is_safe\n",
    "\n",
    "Determines if a report is safe."
   ]
  },
  {
   "cell_type": "code",
   "execution_count": null,
   "metadata": {},
   "outputs": [],
   "source": [
    "def report_is_safe(report):\n",
    "\n",
    "    return not (has_invalid_difference(report)) and is_monotonic(report)\n",
    "\n",
    "\n",
    "assert report_is_safe([7, 6, 4, 2, 1])\n",
    "assert not report_is_safe([1, 2, 7, 8, 9])\n",
    "assert not report_is_safe([9, 7, 6, 2, 1])\n",
    "assert not report_is_safe([1, 3, 2, 4, 5])\n",
    "assert not report_is_safe([8, 6, 4, 4, 1])\n",
    "assert report_is_safe([1, 3, 6, 7, 9])"
   ]
  },
  {
   "cell_type": "markdown",
   "metadata": {},
   "source": [
    "## Determine Number of Safe Reports"
   ]
  },
  {
   "cell_type": "code",
   "execution_count": null,
   "metadata": {},
   "outputs": [
    {
     "name": "stdout",
     "output_type": "stream",
     "text": [
      "safe_count = 686\n",
      "unsafe_count = 314\n"
     ]
    }
   ],
   "source": [
    "safe_count = 0\n",
    "unsafe_count = 0\n",
    "for report in reports:\n",
    "    if report_is_safe(report):\n",
    "        safe_count += 1\n",
    "    else:\n",
    "        unsafe_count += 1\n",
    "\n",
    "print(f\"safe_count = {safe_count}\")\n",
    "print(f\"unsafe_count = {unsafe_count}\")\n",
    "\n",
    "assert safe_count + unsafe_count == 1000"
   ]
  }
 ],
 "metadata": {
  "kernelspec": {
   "display_name": "Python 3",
   "language": "python",
   "name": "python3"
  },
  "language_info": {
   "codemirror_mode": {
    "name": "ipython",
    "version": 3
   },
   "file_extension": ".py",
   "mimetype": "text/x-python",
   "name": "python",
   "nbconvert_exporter": "python",
   "pygments_lexer": "ipython3",
   "version": "3.9.19"
  }
 },
 "nbformat": 4,
 "nbformat_minor": 2
}
