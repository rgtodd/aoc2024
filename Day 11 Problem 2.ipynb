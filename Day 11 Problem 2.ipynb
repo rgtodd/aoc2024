{
 "cells": [
  {
   "cell_type": "markdown",
   "metadata": {},
   "source": [
    "# Advent of Code - 2024 - Day 11 - Problem 2\n",
    "\n",
    "https://adventofcode.com/2024/day/11\n",
    "\n",
    "## Load Source Data\n",
    "\n",
    "Load the map data into `DATA`."
   ]
  },
  {
   "cell_type": "code",
   "execution_count": 1,
   "metadata": {},
   "outputs": [],
   "source": [
    "f = open(\"data/day11.txt\", \"r\")\n",
    "DATA = f.readline()\n",
    "f.close()"
   ]
  },
  {
   "cell_type": "markdown",
   "metadata": {},
   "source": [
    "## Parse DATA\n",
    "\n",
    "Parse data into `STONES`."
   ]
  },
  {
   "cell_type": "code",
   "execution_count": 2,
   "metadata": {},
   "outputs": [],
   "source": [
    "STONES = map(int, DATA.split())"
   ]
  },
  {
   "cell_type": "markdown",
   "metadata": {},
   "source": [
    "## Define get_blink_count\n",
    "\n",
    "Determines the number of stones produced by the specified number of blinks"
   ]
  },
  {
   "cell_type": "code",
   "execution_count": 3,
   "metadata": {},
   "outputs": [],
   "source": [
    "def get_blink_count(stone, blink_count, cache):\n",
    "\n",
    "    try:\n",
    "        return cache[(stone, blink_count)]\n",
    "\n",
    "    except KeyError:\n",
    "\n",
    "        if blink_count == 0:\n",
    "            count = 1\n",
    "        elif stone == 0: \n",
    "            count = get_blink_count(1, blink_count-1, cache)\n",
    "        elif len(str(stone)) % 2 == 0:\n",
    "            stone_str = str(stone)\n",
    "            len_result = len(stone_str) // 2\n",
    "            count = (\n",
    "                get_blink_count(int(stone_str[:len_result]), blink_count-1, cache) +\n",
    "                get_blink_count(int(stone_str[len_result:]), blink_count-1, cache)\n",
    "            )\n",
    "        else:\n",
    "            count = get_blink_count(stone * 2024, blink_count-1, cache)\n",
    "\n",
    "        cache[(stone, blink_count)] = count\n",
    "\n",
    "        return count"
   ]
  },
  {
   "cell_type": "markdown",
   "metadata": {},
   "source": [
    "## Apply Update Rule to Stones\n",
    "\n",
    "Apply the update rule to our list of stones."
   ]
  },
  {
   "cell_type": "code",
   "execution_count": 4,
   "metadata": {},
   "outputs": [
    {
     "name": "stdout",
     "output_type": "stream",
     "text": [
      "count = 272673043446478\n"
     ]
    }
   ],
   "source": [
    "cache = {}\n",
    "count = 0\n",
    "for stone in STONES:\n",
    "    count += get_blink_count(stone, 75, cache)\n",
    "\n",
    "print(f\"count = {count}\")"
   ]
  }
 ],
 "metadata": {
  "kernelspec": {
   "display_name": "Python 3",
   "language": "python",
   "name": "python3"
  },
  "language_info": {
   "codemirror_mode": {
    "name": "ipython",
    "version": 3
   },
   "file_extension": ".py",
   "mimetype": "text/x-python",
   "name": "python",
   "nbconvert_exporter": "python",
   "pygments_lexer": "ipython3",
   "version": "3.9.19"
  }
 },
 "nbformat": 4,
 "nbformat_minor": 2
}
