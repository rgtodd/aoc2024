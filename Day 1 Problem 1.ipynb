{
 "cells": [
  {
   "cell_type": "markdown",
   "metadata": {},
   "source": [
    "# Advent of Code - 2024 - Day 1 - Problem 1\n",
    "\n",
    "https://adventofcode.com/2024/day/1\n",
    "\n",
    "## Load Source Data\n",
    "\n",
    "Load source data into `DATA`.\n",
    "\n",
    "Parse each \"column\" of values into `list1` and `list2`."
   ]
  },
  {
   "cell_type": "code",
   "execution_count": 5,
   "metadata": {},
   "outputs": [],
   "source": [
    "f = open(\"data/day1.txt\", \"r\")\n",
    "DATA = list(map(str.strip, f.readlines()))\n",
    "f.close()\n",
    "\n",
    "# Parse list of values and separate into list1 and list2\n",
    "#\n",
    "list1 = []\n",
    "list2 = []\n",
    "for line in DATA:\n",
    "    values = line.split()\n",
    "    list1.append(int(values[0]))\n",
    "    list2.append(int(values[1]))\n",
    "\n",
    "assert len(list1) == 1000\n",
    "assert len(list2) == 1000"
   ]
  },
  {
   "cell_type": "markdown",
   "metadata": {},
   "source": [
    "## Sort Lists\n",
    "\n",
    "Sort `list1` and `list2`."
   ]
  },
  {
   "cell_type": "code",
   "execution_count": 6,
   "metadata": {},
   "outputs": [],
   "source": [
    "list1.sort()\n",
    "list2.sort()"
   ]
  },
  {
   "cell_type": "markdown",
   "metadata": {},
   "source": [
    "## Compute Distances\n",
    "\n",
    "Determine the distances between each pair of values."
   ]
  },
  {
   "cell_type": "code",
   "execution_count": 7,
   "metadata": {},
   "outputs": [
    {
     "name": "stdout",
     "output_type": "stream",
     "text": [
      "totalDistance = 2057374\n"
     ]
    }
   ],
   "source": [
    "totalDistance = 0\n",
    "for idx in range(0, len(list1)):\n",
    "    totalDistance += abs(list1[idx] - list2[idx])\n",
    "\n",
    "print(f\"totalDistance = {totalDistance}\")"
   ]
  }
 ],
 "metadata": {
  "kernelspec": {
   "display_name": "Python 3",
   "language": "python",
   "name": "python3"
  },
  "language_info": {
   "codemirror_mode": {
    "name": "ipython",
    "version": 3
   },
   "file_extension": ".py",
   "mimetype": "text/x-python",
   "name": "python",
   "nbconvert_exporter": "python",
   "pygments_lexer": "ipython3",
   "version": "3.9.19"
  }
 },
 "nbformat": 4,
 "nbformat_minor": 2
}
