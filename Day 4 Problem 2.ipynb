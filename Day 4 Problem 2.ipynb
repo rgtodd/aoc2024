{
 "cells": [
  {
   "cell_type": "markdown",
   "metadata": {},
   "source": [
    "# Advent of Code - 2024 - Day 4 - Problem 2\n",
    "\n",
    "https://adventofcode.com/2024/day/4\n",
    "\n",
    "## Load Source Data\n",
    "\n",
    "Load source data into `DATA`."
   ]
  },
  {
   "cell_type": "code",
   "execution_count": 1,
   "metadata": {},
   "outputs": [],
   "source": [
    "f = open(\"data/day4.txt\", \"r\")\n",
    "DATA = list(map(str.strip, f.readlines()))\n",
    "f.close()"
   ]
  },
  {
   "cell_type": "markdown",
   "metadata": {},
   "source": [
    "## Create LINES\n",
    "\n",
    "Move data into `LINES` array. \n",
    "\n",
    "Determine `SIZE` of text grid."
   ]
  },
  {
   "cell_type": "code",
   "execution_count": 2,
   "metadata": {},
   "outputs": [],
   "source": [
    "LINES = DATA\n",
    "\n",
    "SIZE = len(LINES)\n",
    "assert len(LINES[0]) == SIZE"
   ]
  },
  {
   "cell_type": "markdown",
   "metadata": {},
   "source": [
    "## Create Letter Sets\n",
    "\n",
    "Each set contains all the coordinates of the specified letter"
   ]
  },
  {
   "cell_type": "code",
   "execution_count": 3,
   "metadata": {},
   "outputs": [],
   "source": [
    "M_COORDINATES = set()\n",
    "A_COORDINATES = set()\n",
    "S_COORDINATES = set()\n",
    "for row in range(SIZE):\n",
    "    for col in range(SIZE):\n",
    "        letter = LINES[row][col]\n",
    "        if letter == \"M\":   M_COORDINATES.add((row, col))\n",
    "        elif letter == \"A\": A_COORDINATES.add((row, col))\n",
    "        elif letter == \"S\": S_COORDINATES.add((row, col))"
   ]
  },
  {
   "cell_type": "markdown",
   "metadata": {},
   "source": [
    "## Define mmass_found\n",
    "\n",
    "Determines if the following cross exists at the specified coordinate. It assumes there's already an M at the upper-left.\n",
    "\n",
    "```\n",
    "M-M\n",
    "-A-\n",
    "S-S\n",
    "```"
   ]
  },
  {
   "cell_type": "code",
   "execution_count": 4,
   "metadata": {},
   "outputs": [],
   "source": [
    "def mmass_found(coordinate):\n",
    "    row, col = coordinate\n",
    "    return (\n",
    "            (row    , col + 2) in M_COORDINATES\n",
    "        and (row + 1, col + 1) in A_COORDINATES\n",
    "        and (row + 2, col    ) in S_COORDINATES\n",
    "        and (row + 2, col + 2) in S_COORDINATES\n",
    "    )"
   ]
  },
  {
   "cell_type": "markdown",
   "metadata": {},
   "source": [
    "## Define smasm_found\n",
    "\n",
    "Determines if the following cross exists at the specified coordinate. It assumes there's already an S at the upper-left.\n",
    "\n",
    "```\n",
    "S-M\n",
    "-A-\n",
    "S-M\n",
    "```"
   ]
  },
  {
   "cell_type": "code",
   "execution_count": 5,
   "metadata": {},
   "outputs": [],
   "source": [
    "def smasm_found(coordinate):\n",
    "    row, col = coordinate\n",
    "    return (\n",
    "            (row    , col + 2) in M_COORDINATES\n",
    "        and (row + 1, col + 1) in A_COORDINATES\n",
    "        and (row + 2, col    ) in S_COORDINATES\n",
    "        and (row + 2, col + 2) in M_COORDINATES\n",
    "    )"
   ]
  },
  {
   "cell_type": "markdown",
   "metadata": {},
   "source": [
    "## Define ssamm_found\n",
    "\n",
    "Determines if the following cross exists at the specified coordinate. It assumes there's already an S at the upper-left.\n",
    "\n",
    "```\n",
    "S-S\n",
    "-A-\n",
    "M-M\n",
    "```"
   ]
  },
  {
   "cell_type": "code",
   "execution_count": 6,
   "metadata": {},
   "outputs": [],
   "source": [
    "def ssamm_found(coordinate):\n",
    "    row, col = coordinate\n",
    "    return (\n",
    "            (row    , col + 2) in S_COORDINATES\n",
    "        and (row + 1, col + 1) in A_COORDINATES\n",
    "        and (row + 2, col    ) in M_COORDINATES\n",
    "        and (row + 2, col + 2) in M_COORDINATES\n",
    "    )"
   ]
  },
  {
   "cell_type": "markdown",
   "metadata": {},
   "source": [
    "## Define msams_found\n",
    "\n",
    "Determines if the following cross exists at the specified coordinate. It assumes there's already an M at the upper-left.\n",
    "\n",
    "```\n",
    "M-S\n",
    "-A-\n",
    "M-S\n",
    "```"
   ]
  },
  {
   "cell_type": "code",
   "execution_count": 7,
   "metadata": {},
   "outputs": [],
   "source": [
    "def msams_found(coordinate):\n",
    "    row, col = coordinate\n",
    "    return (\n",
    "            (row    , col + 2) in S_COORDINATES\n",
    "        and (row + 1, col + 1) in A_COORDINATES\n",
    "        and (row + 2, col    ) in M_COORDINATES\n",
    "        and (row + 2, col + 2) in S_COORDINATES\n",
    "    )"
   ]
  },
  {
   "cell_type": "markdown",
   "metadata": {},
   "source": [
    "## Search For All Crosses\n",
    "\n",
    "Searches the grid for all possible crosses."
   ]
  },
  {
   "cell_type": "code",
   "execution_count": 8,
   "metadata": {},
   "outputs": [
    {
     "name": "stdout",
     "output_type": "stream",
     "text": [
      "count = 1850\n"
     ]
    }
   ],
   "source": [
    "count = 0\n",
    "for coordinate in M_COORDINATES:\n",
    "    if mmass_found(coordinate): count += 1\n",
    "    if msams_found(coordinate): count += 1\n",
    "for coordinate in S_COORDINATES:\n",
    "    if smasm_found(coordinate): count += 1\n",
    "    if ssamm_found(coordinate): count += 1\n",
    "\n",
    "print(f\"count = {count}\")"
   ]
  }
 ],
 "metadata": {
  "kernelspec": {
   "display_name": "Python 3",
   "language": "python",
   "name": "python3"
  },
  "language_info": {
   "codemirror_mode": {
    "name": "ipython",
    "version": 3
   },
   "file_extension": ".py",
   "mimetype": "text/x-python",
   "name": "python",
   "nbconvert_exporter": "python",
   "pygments_lexer": "ipython3",
   "version": "3.9.19"
  }
 },
 "nbformat": 4,
 "nbformat_minor": 2
}
