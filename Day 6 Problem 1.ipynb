{
 "cells": [
  {
   "cell_type": "markdown",
   "metadata": {},
   "source": [
    "# Advent of Code - 2024 - Day 6 - Problem 1\n",
    "\n",
    "https://adventofcode.com/2024/day/5\n",
    "\n",
    "## Load Source Data\n",
    "\n",
    "Load the map data into `DATA`."
   ]
  },
  {
   "cell_type": "code",
   "execution_count": 40,
   "metadata": {},
   "outputs": [],
   "source": [
    "f = open(\"data/day6.txt\", \"r\")\n",
    "DATA = list(map(str.strip, f.readlines()))\n",
    "f.close()"
   ]
  },
  {
   "cell_type": "markdown",
   "metadata": {},
   "source": [
    "## Create Maze Class"
   ]
  },
  {
   "cell_type": "code",
   "execution_count": 50,
   "metadata": {},
   "outputs": [],
   "source": [
    "class Maze:\n",
    "\n",
    "    def __init__(self, data):\n",
    "        self.data = list(map(list, data))\n",
    "\n",
    "    def is_valid(self, location):\n",
    "        row, col = location\n",
    "        if row < 0 or row >= len(self.data): return False\n",
    "        if col < 0 or col >= len(self.data[row]): return False\n",
    "        return True\n",
    "\n",
    "    def get_value(self, location):\n",
    "        row, col = location\n",
    "        return self.data[row][col]\n",
    "    \n",
    "    def set_value(self, location, value):\n",
    "        row, col = location\n",
    "        self.data[row][col] = value\n",
    "\n",
    "    def find_value(self, value):\n",
    "        for row in range(len(self.data)):\n",
    "            for col in range(len(self.data[row])):\n",
    "                if self.data[row][col] == value: return (row,col)\n",
    "        return None"
   ]
  },
  {
   "cell_type": "markdown",
   "metadata": {},
   "source": [
    "## Create Cursor Class"
   ]
  },
  {
   "cell_type": "code",
   "execution_count": 42,
   "metadata": {},
   "outputs": [],
   "source": [
    "ORIENTATION_UP = 0\n",
    "ORIENTATION_RIGHT = 1\n",
    "ORIENTATION_DOWN = 2\n",
    "ORIENTATION_LEFT = 3\n",
    "class Cursor:\n",
    "\n",
    "    def __init__(self, location, orientation):\n",
    "        self.location = location\n",
    "        self.orientation = orientation\n",
    "\n",
    "    # STATIC\n",
    "    def get_next_location(self, location, orientation):\n",
    "\n",
    "        row, col = location\n",
    "\n",
    "        if   orientation == ORIENTATION_UP:    return (row-1, col)\n",
    "        elif orientation == ORIENTATION_RIGHT: return (row  , col+1)\n",
    "        elif orientation == ORIENTATION_DOWN:  return (row+1, col)\n",
    "        else:                                  return (row  , col-1) # LEFT\n",
    "\n",
    "    def get_next_locations(self):\n",
    "        location = self.location\n",
    "        orientation = self.orientation\n",
    "        for idx in range(4):\n",
    "            yield Cursor(self.get_next_location(location, orientation), orientation)\n",
    "            orientation = (orientation + 1) % 4"
   ]
  },
  {
   "cell_type": "markdown",
   "metadata": {},
   "source": [
    "## Create Guard Class"
   ]
  },
  {
   "cell_type": "code",
   "execution_count": 58,
   "metadata": {},
   "outputs": [],
   "source": [
    "GUARD_UP = \"^\"\n",
    "GUARD_RIGHT = \">\"\n",
    "GUARD_DOWN = \"v\"\n",
    "GUARD_LEFT = \"<\"\n",
    "ALL_GUARDS = [GUARD_UP, GUARD_RIGHT, GUARD_DOWN, GUARD_LEFT]\n",
    "\n",
    "GUARD_VISITED = \"X\"\n",
    "\n",
    "class Guard:\n",
    "\n",
    "    def __init__(self, maze, cursor):\n",
    "        self.maze = maze\n",
    "        self.cursor = cursor\n",
    "\n",
    "    def move(self):\n",
    "\n",
    "        for next_cursor in self.cursor.get_next_locations():\n",
    "            \n",
    "            # See if we've moved off the map.\n",
    "            #\n",
    "            if not self.maze.is_valid(next_cursor.location): \n",
    "                self.maze.set_value(self.cursor.location, GUARD_VISITED)\n",
    "                return False\n",
    "\n",
    "            # Move if the direction isn't blocked.\n",
    "            #\n",
    "            value = self.maze.get_value(next_cursor.location)\n",
    "            if value != \"#\":\n",
    "                self.maze.set_value(self.cursor.location, GUARD_VISITED)\n",
    "\n",
    "                self.cursor = next_cursor\n",
    "\n",
    "                value = ALL_GUARDS[self.cursor.orientation]\n",
    "                self.maze.set_value(self.cursor.location, value)\n",
    "\n",
    "                return True\n",
    "            \n",
    "        return False"
   ]
  },
  {
   "cell_type": "markdown",
   "metadata": {},
   "source": [
    "## Move Guard Around Maze"
   ]
  },
  {
   "cell_type": "code",
   "execution_count": 59,
   "metadata": {},
   "outputs": [
    {
     "data": {
      "text/plain": [
       "4374"
      ]
     },
     "execution_count": 59,
     "metadata": {},
     "output_type": "execute_result"
    }
   ],
   "source": [
    "maze = Maze(DATA)\n",
    "\n",
    "location = maze.find_value(GUARD_UP)\n",
    "cursor = Cursor(location, ORIENTATION_UP)\n",
    "\n",
    "guard = Guard(maze, cursor)\n",
    "\n",
    "while guard.move():\n",
    "   pass\n",
    "\n",
    "count = 0\n",
    "for line in maze.data:\n",
    "   for char in line:\n",
    "      if char in [GUARD_VISITED]: count += 1\n",
    "\n",
    "count"
   ]
  }
 ],
 "metadata": {
  "kernelspec": {
   "display_name": "Python 3",
   "language": "python",
   "name": "python3"
  },
  "language_info": {
   "codemirror_mode": {
    "name": "ipython",
    "version": 3
   },
   "file_extension": ".py",
   "mimetype": "text/x-python",
   "name": "python",
   "nbconvert_exporter": "python",
   "pygments_lexer": "ipython3",
   "version": "3.9.19"
  }
 },
 "nbformat": 4,
 "nbformat_minor": 2
}
