{
 "cells": [
  {
   "cell_type": "markdown",
   "metadata": {},
   "source": [
    "# Advent of Code - 2024 - Day 3 - Problem 2\n",
    "\n",
    "https://adventofcode.com/2024/day/3\n",
    "\n",
    "## Load Source Data\n",
    "\n",
    "Load source data into `DATA`."
   ]
  },
  {
   "cell_type": "code",
   "execution_count": 1,
   "metadata": {},
   "outputs": [],
   "source": [
    "f = open(\"data/day3.txt\", \"r\")\n",
    "DATA = f.read()\n",
    "f.close()"
   ]
  },
  {
   "cell_type": "markdown",
   "metadata": {},
   "source": [
    "## Define Regular Expressions\n",
    "\n",
    "Search for:\n",
    "\n",
    "* expressions of the form `mul(###,###)` where `###` is a 1 to 3 digit value.\n",
    "\n",
    "* expressions of the form `do()` which enable multiplication operations.\n",
    "\n",
    "* expressions of the form `don't()` which disable multiplication operations."
   ]
  },
  {
   "cell_type": "code",
   "execution_count": 2,
   "metadata": {},
   "outputs": [],
   "source": [
    "import re\n",
    "\n",
    "MULTIPLE_REGEX = \"\"\"mul\\(([0-9]{1,3})\\,([0-9]{1,3})\\)\"\"\"\n",
    "\n",
    "DO_REGEX = \"\"\"(do)\\(\\)\"\"\"\n",
    "\n",
    "DONT_REGEX = \"\"\"(don't)\\(\\)\"\"\"\n",
    "\n",
    "DATA_REGEX = f\"{MULTIPLE_REGEX}|{DO_REGEX}|{DONT_REGEX}\""
   ]
  },
  {
   "cell_type": "markdown",
   "metadata": {},
   "source": [
    "## Search Data and Compute Result\n",
    "\n",
    "Search the data and evaluate all active multiplication operations."
   ]
  },
  {
   "cell_type": "code",
   "execution_count": null,
   "metadata": {},
   "outputs": [
    {
     "name": "stdout",
     "output_type": "stream",
     "text": [
      "total = 56275602\n"
     ]
    }
   ],
   "source": [
    "import re\n",
    "\n",
    "active = True\n",
    "total = 0\n",
    "for lhs, rhs, do, dont in re.findall(DATA_REGEX, DATA):\n",
    "    if do == \"do\":\n",
    "        active = True\n",
    "    elif dont == \"don't\":\n",
    "        active = False\n",
    "    else:\n",
    "        if active:\n",
    "            total += int(lhs) * int(rhs)\n",
    "\n",
    "print(f\"total = {total}\")"
   ]
  }
 ],
 "metadata": {
  "kernelspec": {
   "display_name": "Python 3",
   "language": "python",
   "name": "python3"
  },
  "language_info": {
   "codemirror_mode": {
    "name": "ipython",
    "version": 3
   },
   "file_extension": ".py",
   "mimetype": "text/x-python",
   "name": "python",
   "nbconvert_exporter": "python",
   "pygments_lexer": "ipython3",
   "version": "3.9.19"
  }
 },
 "nbformat": 4,
 "nbformat_minor": 2
}
